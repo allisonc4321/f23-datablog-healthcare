{
 "cells": [
  {
   "cell_type": "code",
   "execution_count": 2,
   "metadata": {},
   "outputs": [],
   "source": [
    "import pandas as pd\n",
    "import seaborn as sns\n",
    "import plotly.express as px\n",
    "import matplotlib.pyplot as plt"
   ]
  },
  {
   "cell_type": "code",
   "execution_count": 3,
   "metadata": {},
   "outputs": [
    {
     "data": {
      "text/html": [
       "<div>\n",
       "<style scoped>\n",
       "    .dataframe tbody tr th:only-of-type {\n",
       "        vertical-align: middle;\n",
       "    }\n",
       "\n",
       "    .dataframe tbody tr th {\n",
       "        vertical-align: top;\n",
       "    }\n",
       "\n",
       "    .dataframe thead th {\n",
       "        text-align: right;\n",
       "    }\n",
       "</style>\n",
       "<table border=\"1\" class=\"dataframe\">\n",
       "  <thead>\n",
       "    <tr style=\"text-align: right;\">\n",
       "      <th></th>\n",
       "      <th>oshpd_id</th>\n",
       "      <th>FacilityName2</th>\n",
       "      <th>CountyName</th>\n",
       "      <th>system</th>\n",
       "      <th>LICENSED_BED_SIZE</th>\n",
       "      <th>HospitalOwnership</th>\n",
       "      <th>UrbanRuralDesi</th>\n",
       "      <th>TEACHINGDesignation</th>\n",
       "      <th>Category</th>\n",
       "      <th>Tot_ED_NmbVsts</th>\n",
       "      <th>EDStations</th>\n",
       "      <th>EDDXCount</th>\n",
       "      <th>LATITUDE</th>\n",
       "      <th>LONGITUDE</th>\n",
       "      <th>PrimaryCareShortageArea</th>\n",
       "      <th>MentalHealthShortageArea</th>\n",
       "    </tr>\n",
       "  </thead>\n",
       "  <tbody>\n",
       "    <tr>\n",
       "      <th>0</th>\n",
       "      <td>106010735</td>\n",
       "      <td>Alameda Hospital</td>\n",
       "      <td>Alameda</td>\n",
       "      <td>Alameda Health System</td>\n",
       "      <td>100-149</td>\n",
       "      <td>Government</td>\n",
       "      <td>Urban</td>\n",
       "      <td>Non-Teaching</td>\n",
       "      <td>Active COVID-19</td>\n",
       "      <td>11185</td>\n",
       "      <td>12</td>\n",
       "      <td>262</td>\n",
       "      <td>37.762660</td>\n",
       "      <td>-122.253991</td>\n",
       "      <td>No</td>\n",
       "      <td>No</td>\n",
       "    </tr>\n",
       "    <tr>\n",
       "      <th>1</th>\n",
       "      <td>106010735</td>\n",
       "      <td>Alameda Hospital</td>\n",
       "      <td>Alameda</td>\n",
       "      <td>Alameda Health System</td>\n",
       "      <td>100-149</td>\n",
       "      <td>Government</td>\n",
       "      <td>Urban</td>\n",
       "      <td>Non-Teaching</td>\n",
       "      <td>Stroke</td>\n",
       "      <td>11185</td>\n",
       "      <td>12</td>\n",
       "      <td>13</td>\n",
       "      <td>37.762660</td>\n",
       "      <td>-122.253991</td>\n",
       "      <td>No</td>\n",
       "      <td>No</td>\n",
       "    </tr>\n",
       "    <tr>\n",
       "      <th>2</th>\n",
       "      <td>106010735</td>\n",
       "      <td>Alameda Hospital</td>\n",
       "      <td>Alameda</td>\n",
       "      <td>Alameda Health System</td>\n",
       "      <td>100-149</td>\n",
       "      <td>Government</td>\n",
       "      <td>Urban</td>\n",
       "      <td>Non-Teaching</td>\n",
       "      <td>COPD</td>\n",
       "      <td>11185</td>\n",
       "      <td>12</td>\n",
       "      <td>318</td>\n",
       "      <td>37.762660</td>\n",
       "      <td>-122.253991</td>\n",
       "      <td>No</td>\n",
       "      <td>No</td>\n",
       "    </tr>\n",
       "    <tr>\n",
       "      <th>3</th>\n",
       "      <td>106010735</td>\n",
       "      <td>Alameda Hospital</td>\n",
       "      <td>Alameda</td>\n",
       "      <td>Alameda Health System</td>\n",
       "      <td>100-149</td>\n",
       "      <td>Government</td>\n",
       "      <td>Urban</td>\n",
       "      <td>Non-Teaching</td>\n",
       "      <td>COVID-19 History</td>\n",
       "      <td>11185</td>\n",
       "      <td>12</td>\n",
       "      <td>119</td>\n",
       "      <td>37.762660</td>\n",
       "      <td>-122.253991</td>\n",
       "      <td>No</td>\n",
       "      <td>No</td>\n",
       "    </tr>\n",
       "    <tr>\n",
       "      <th>4</th>\n",
       "      <td>106010735</td>\n",
       "      <td>Alameda Hospital</td>\n",
       "      <td>Alameda</td>\n",
       "      <td>Alameda Health System</td>\n",
       "      <td>100-149</td>\n",
       "      <td>Government</td>\n",
       "      <td>Urban</td>\n",
       "      <td>Non-Teaching</td>\n",
       "      <td>Hypertension</td>\n",
       "      <td>11185</td>\n",
       "      <td>12</td>\n",
       "      <td>2856</td>\n",
       "      <td>37.762660</td>\n",
       "      <td>-122.253991</td>\n",
       "      <td>No</td>\n",
       "      <td>No</td>\n",
       "    </tr>\n",
       "    <tr>\n",
       "      <th>...</th>\n",
       "      <td>...</td>\n",
       "      <td>...</td>\n",
       "      <td>...</td>\n",
       "      <td>...</td>\n",
       "      <td>...</td>\n",
       "      <td>...</td>\n",
       "      <td>...</td>\n",
       "      <td>...</td>\n",
       "      <td>...</td>\n",
       "      <td>...</td>\n",
       "      <td>...</td>\n",
       "      <td>...</td>\n",
       "      <td>...</td>\n",
       "      <td>...</td>\n",
       "      <td>...</td>\n",
       "      <td>...</td>\n",
       "    </tr>\n",
       "    <tr>\n",
       "      <th>4260</th>\n",
       "      <td>106580996</td>\n",
       "      <td>Adventist Health and Rideout</td>\n",
       "      <td>Yuba</td>\n",
       "      <td>Adventist Health Systems</td>\n",
       "      <td>200-299</td>\n",
       "      <td>Nonprofit</td>\n",
       "      <td>Rural</td>\n",
       "      <td>Non-Teaching</td>\n",
       "      <td>Homeless</td>\n",
       "      <td>55341</td>\n",
       "      <td>44</td>\n",
       "      <td>2953</td>\n",
       "      <td>39.138805</td>\n",
       "      <td>-121.593602</td>\n",
       "      <td>Yes</td>\n",
       "      <td>Yes</td>\n",
       "    </tr>\n",
       "    <tr>\n",
       "      <th>4261</th>\n",
       "      <td>106580996</td>\n",
       "      <td>Adventist Health and Rideout</td>\n",
       "      <td>Yuba</td>\n",
       "      <td>Adventist Health Systems</td>\n",
       "      <td>200-299</td>\n",
       "      <td>Nonprofit</td>\n",
       "      <td>Rural</td>\n",
       "      <td>Non-Teaching</td>\n",
       "      <td>Stroke</td>\n",
       "      <td>55341</td>\n",
       "      <td>44</td>\n",
       "      <td>64</td>\n",
       "      <td>39.138805</td>\n",
       "      <td>-121.593602</td>\n",
       "      <td>Yes</td>\n",
       "      <td>Yes</td>\n",
       "    </tr>\n",
       "    <tr>\n",
       "      <th>4262</th>\n",
       "      <td>106580996</td>\n",
       "      <td>Adventist Health and Rideout</td>\n",
       "      <td>Yuba</td>\n",
       "      <td>Adventist Health Systems</td>\n",
       "      <td>200-299</td>\n",
       "      <td>Nonprofit</td>\n",
       "      <td>Rural</td>\n",
       "      <td>Non-Teaching</td>\n",
       "      <td>COVID-19 History</td>\n",
       "      <td>55341</td>\n",
       "      <td>44</td>\n",
       "      <td>358</td>\n",
       "      <td>39.138805</td>\n",
       "      <td>-121.593602</td>\n",
       "      <td>Yes</td>\n",
       "      <td>Yes</td>\n",
       "    </tr>\n",
       "    <tr>\n",
       "      <th>4263</th>\n",
       "      <td>106580996</td>\n",
       "      <td>Adventist Health and Rideout</td>\n",
       "      <td>Yuba</td>\n",
       "      <td>Adventist Health Systems</td>\n",
       "      <td>200-299</td>\n",
       "      <td>Nonprofit</td>\n",
       "      <td>Rural</td>\n",
       "      <td>Non-Teaching</td>\n",
       "      <td>Active COVID-19</td>\n",
       "      <td>55341</td>\n",
       "      <td>44</td>\n",
       "      <td>2392</td>\n",
       "      <td>39.138805</td>\n",
       "      <td>-121.593602</td>\n",
       "      <td>Yes</td>\n",
       "      <td>Yes</td>\n",
       "    </tr>\n",
       "    <tr>\n",
       "      <th>4264</th>\n",
       "      <td>106580996</td>\n",
       "      <td>Adventist Health and Rideout</td>\n",
       "      <td>Yuba</td>\n",
       "      <td>Adventist Health Systems</td>\n",
       "      <td>200-299</td>\n",
       "      <td>Nonprofit</td>\n",
       "      <td>Rural</td>\n",
       "      <td>Non-Teaching</td>\n",
       "      <td>All ED Visits</td>\n",
       "      <td>55341</td>\n",
       "      <td>44</td>\n",
       "      <td>55341</td>\n",
       "      <td>39.138805</td>\n",
       "      <td>-121.593602</td>\n",
       "      <td>Yes</td>\n",
       "      <td>Yes</td>\n",
       "    </tr>\n",
       "  </tbody>\n",
       "</table>\n",
       "<p>4265 rows × 16 columns</p>\n",
       "</div>"
      ],
      "text/plain": [
       "       oshpd_id                 FacilityName2 CountyName  \\\n",
       "0     106010735              Alameda Hospital    Alameda   \n",
       "1     106010735              Alameda Hospital    Alameda   \n",
       "2     106010735              Alameda Hospital    Alameda   \n",
       "3     106010735              Alameda Hospital    Alameda   \n",
       "4     106010735              Alameda Hospital    Alameda   \n",
       "...         ...                           ...        ...   \n",
       "4260  106580996  Adventist Health and Rideout       Yuba   \n",
       "4261  106580996  Adventist Health and Rideout       Yuba   \n",
       "4262  106580996  Adventist Health and Rideout       Yuba   \n",
       "4263  106580996  Adventist Health and Rideout       Yuba   \n",
       "4264  106580996  Adventist Health and Rideout       Yuba   \n",
       "\n",
       "                        system LICENSED_BED_SIZE HospitalOwnership  \\\n",
       "0        Alameda Health System           100-149        Government   \n",
       "1        Alameda Health System           100-149        Government   \n",
       "2        Alameda Health System           100-149        Government   \n",
       "3        Alameda Health System           100-149        Government   \n",
       "4        Alameda Health System           100-149        Government   \n",
       "...                        ...               ...               ...   \n",
       "4260  Adventist Health Systems           200-299         Nonprofit   \n",
       "4261  Adventist Health Systems           200-299         Nonprofit   \n",
       "4262  Adventist Health Systems           200-299         Nonprofit   \n",
       "4263  Adventist Health Systems           200-299         Nonprofit   \n",
       "4264  Adventist Health Systems           200-299         Nonprofit   \n",
       "\n",
       "     UrbanRuralDesi TEACHINGDesignation          Category  Tot_ED_NmbVsts  \\\n",
       "0             Urban        Non-Teaching   Active COVID-19           11185   \n",
       "1             Urban        Non-Teaching            Stroke           11185   \n",
       "2             Urban        Non-Teaching              COPD           11185   \n",
       "3             Urban        Non-Teaching  COVID-19 History           11185   \n",
       "4             Urban        Non-Teaching      Hypertension           11185   \n",
       "...             ...                 ...               ...             ...   \n",
       "4260          Rural        Non-Teaching          Homeless           55341   \n",
       "4261          Rural        Non-Teaching            Stroke           55341   \n",
       "4262          Rural        Non-Teaching  COVID-19 History           55341   \n",
       "4263          Rural        Non-Teaching   Active COVID-19           55341   \n",
       "4264          Rural        Non-Teaching     All ED Visits           55341   \n",
       "\n",
       "      EDStations  EDDXCount   LATITUDE   LONGITUDE PrimaryCareShortageArea  \\\n",
       "0             12        262  37.762660 -122.253991                      No   \n",
       "1             12         13  37.762660 -122.253991                      No   \n",
       "2             12        318  37.762660 -122.253991                      No   \n",
       "3             12        119  37.762660 -122.253991                      No   \n",
       "4             12       2856  37.762660 -122.253991                      No   \n",
       "...          ...        ...        ...         ...                     ...   \n",
       "4260          44       2953  39.138805 -121.593602                     Yes   \n",
       "4261          44         64  39.138805 -121.593602                     Yes   \n",
       "4262          44        358  39.138805 -121.593602                     Yes   \n",
       "4263          44       2392  39.138805 -121.593602                     Yes   \n",
       "4264          44      55341  39.138805 -121.593602                     Yes   \n",
       "\n",
       "     MentalHealthShortageArea  \n",
       "0                          No  \n",
       "1                          No  \n",
       "2                          No  \n",
       "3                          No  \n",
       "4                          No  \n",
       "...                       ...  \n",
       "4260                      Yes  \n",
       "4261                      Yes  \n",
       "4262                      Yes  \n",
       "4263                      Yes  \n",
       "4264                      Yes  \n",
       "\n",
       "[4265 rows x 16 columns]"
      ]
     },
     "execution_count": 3,
     "metadata": {},
     "output_type": "execute_result"
    }
   ],
   "source": [
    "df = pd.read_csv('ed-volume-and-capacity-2021.csv', encoding='ISO-8859-1')\n",
    "df"
   ]
  },
  {
   "cell_type": "code",
   "execution_count": 4,
   "metadata": {},
   "outputs": [
    {
     "data": {
      "text/html": [
       "<div>\n",
       "<style scoped>\n",
       "    .dataframe tbody tr th:only-of-type {\n",
       "        vertical-align: middle;\n",
       "    }\n",
       "\n",
       "    .dataframe tbody tr th {\n",
       "        vertical-align: top;\n",
       "    }\n",
       "\n",
       "    .dataframe thead th {\n",
       "        text-align: right;\n",
       "    }\n",
       "</style>\n",
       "<table border=\"1\" class=\"dataframe\">\n",
       "  <thead>\n",
       "    <tr style=\"text-align: right;\">\n",
       "      <th></th>\n",
       "      <th>oshpd_id</th>\n",
       "      <th>FacilityName2</th>\n",
       "      <th>CountyName</th>\n",
       "      <th>system</th>\n",
       "      <th>LICENSED_BED_SIZE</th>\n",
       "      <th>HospitalOwnership</th>\n",
       "      <th>UrbanRuralDesi</th>\n",
       "      <th>TEACHINGDesignation</th>\n",
       "      <th>Category</th>\n",
       "      <th>Tot_ED_NmbVsts</th>\n",
       "      <th>EDStations</th>\n",
       "      <th>EDDXCount</th>\n",
       "      <th>LATITUDE</th>\n",
       "      <th>LONGITUDE</th>\n",
       "      <th>PrimaryCareShortageArea</th>\n",
       "      <th>MentalHealthShortageArea</th>\n",
       "    </tr>\n",
       "  </thead>\n",
       "  <tbody>\n",
       "    <tr>\n",
       "      <th>2480</th>\n",
       "      <td>106331216</td>\n",
       "      <td>John F. Kennedy Memorial Hospital</td>\n",
       "      <td>Riverside</td>\n",
       "      <td>Tenet Healthcare Corporation</td>\n",
       "      <td>100-149</td>\n",
       "      <td>Investor Owned</td>\n",
       "      <td>Urban</td>\n",
       "      <td>Non-Teaching</td>\n",
       "      <td>Substance Abuse</td>\n",
       "      <td>42578</td>\n",
       "      <td>12</td>\n",
       "      <td>4813</td>\n",
       "      <td>33.70677</td>\n",
       "      <td>-116.23391</td>\n",
       "      <td>No</td>\n",
       "      <td>Yes</td>\n",
       "    </tr>\n",
       "    <tr>\n",
       "      <th>2481</th>\n",
       "      <td>106331216</td>\n",
       "      <td>John F. Kennedy Memorial Hospital</td>\n",
       "      <td>Riverside</td>\n",
       "      <td>Tenet Healthcare Corporation</td>\n",
       "      <td>100-149</td>\n",
       "      <td>Investor Owned</td>\n",
       "      <td>Urban</td>\n",
       "      <td>Non-Teaching</td>\n",
       "      <td>Respiratory</td>\n",
       "      <td>42578</td>\n",
       "      <td>12</td>\n",
       "      <td>150</td>\n",
       "      <td>33.70677</td>\n",
       "      <td>-116.23391</td>\n",
       "      <td>No</td>\n",
       "      <td>Yes</td>\n",
       "    </tr>\n",
       "    <tr>\n",
       "      <th>2482</th>\n",
       "      <td>106331216</td>\n",
       "      <td>John F. Kennedy Memorial Hospital</td>\n",
       "      <td>Riverside</td>\n",
       "      <td>Tenet Healthcare Corporation</td>\n",
       "      <td>100-149</td>\n",
       "      <td>Investor Owned</td>\n",
       "      <td>Urban</td>\n",
       "      <td>Non-Teaching</td>\n",
       "      <td>Pneumonia</td>\n",
       "      <td>42578</td>\n",
       "      <td>12</td>\n",
       "      <td>461</td>\n",
       "      <td>33.70677</td>\n",
       "      <td>-116.23391</td>\n",
       "      <td>No</td>\n",
       "      <td>Yes</td>\n",
       "    </tr>\n",
       "    <tr>\n",
       "      <th>2483</th>\n",
       "      <td>106331216</td>\n",
       "      <td>John F. Kennedy Memorial Hospital</td>\n",
       "      <td>Riverside</td>\n",
       "      <td>Tenet Healthcare Corporation</td>\n",
       "      <td>100-149</td>\n",
       "      <td>Investor Owned</td>\n",
       "      <td>Urban</td>\n",
       "      <td>Non-Teaching</td>\n",
       "      <td>Cardiac</td>\n",
       "      <td>42578</td>\n",
       "      <td>12</td>\n",
       "      <td>72</td>\n",
       "      <td>33.70677</td>\n",
       "      <td>-116.23391</td>\n",
       "      <td>No</td>\n",
       "      <td>Yes</td>\n",
       "    </tr>\n",
       "    <tr>\n",
       "      <th>2484</th>\n",
       "      <td>106331216</td>\n",
       "      <td>John F. Kennedy Memorial Hospital</td>\n",
       "      <td>Riverside</td>\n",
       "      <td>Tenet Healthcare Corporation</td>\n",
       "      <td>100-149</td>\n",
       "      <td>Investor Owned</td>\n",
       "      <td>Urban</td>\n",
       "      <td>Non-Teaching</td>\n",
       "      <td>Mental Health</td>\n",
       "      <td>42578</td>\n",
       "      <td>12</td>\n",
       "      <td>3382</td>\n",
       "      <td>33.70677</td>\n",
       "      <td>-116.23391</td>\n",
       "      <td>No</td>\n",
       "      <td>Yes</td>\n",
       "    </tr>\n",
       "    <tr>\n",
       "      <th>2485</th>\n",
       "      <td>106331216</td>\n",
       "      <td>John F. Kennedy Memorial Hospital</td>\n",
       "      <td>Riverside</td>\n",
       "      <td>Tenet Healthcare Corporation</td>\n",
       "      <td>100-149</td>\n",
       "      <td>Investor Owned</td>\n",
       "      <td>Urban</td>\n",
       "      <td>Non-Teaching</td>\n",
       "      <td>Cancer</td>\n",
       "      <td>42578</td>\n",
       "      <td>12</td>\n",
       "      <td>196</td>\n",
       "      <td>33.70677</td>\n",
       "      <td>-116.23391</td>\n",
       "      <td>No</td>\n",
       "      <td>Yes</td>\n",
       "    </tr>\n",
       "    <tr>\n",
       "      <th>2486</th>\n",
       "      <td>106331216</td>\n",
       "      <td>John F. Kennedy Memorial Hospital</td>\n",
       "      <td>Riverside</td>\n",
       "      <td>Tenet Healthcare Corporation</td>\n",
       "      <td>100-149</td>\n",
       "      <td>Investor Owned</td>\n",
       "      <td>Urban</td>\n",
       "      <td>Non-Teaching</td>\n",
       "      <td>Obesity</td>\n",
       "      <td>42578</td>\n",
       "      <td>12</td>\n",
       "      <td>619</td>\n",
       "      <td>33.70677</td>\n",
       "      <td>-116.23391</td>\n",
       "      <td>No</td>\n",
       "      <td>Yes</td>\n",
       "    </tr>\n",
       "    <tr>\n",
       "      <th>2487</th>\n",
       "      <td>106331216</td>\n",
       "      <td>John F. Kennedy Memorial Hospital</td>\n",
       "      <td>Riverside</td>\n",
       "      <td>Tenet Healthcare Corporation</td>\n",
       "      <td>100-149</td>\n",
       "      <td>Investor Owned</td>\n",
       "      <td>Urban</td>\n",
       "      <td>Non-Teaching</td>\n",
       "      <td>Hypertension</td>\n",
       "      <td>42578</td>\n",
       "      <td>12</td>\n",
       "      <td>4288</td>\n",
       "      <td>33.70677</td>\n",
       "      <td>-116.23391</td>\n",
       "      <td>No</td>\n",
       "      <td>Yes</td>\n",
       "    </tr>\n",
       "    <tr>\n",
       "      <th>2488</th>\n",
       "      <td>106331216</td>\n",
       "      <td>John F. Kennedy Memorial Hospital</td>\n",
       "      <td>Riverside</td>\n",
       "      <td>Tenet Healthcare Corporation</td>\n",
       "      <td>100-149</td>\n",
       "      <td>Investor Owned</td>\n",
       "      <td>Urban</td>\n",
       "      <td>Non-Teaching</td>\n",
       "      <td>Sepsis</td>\n",
       "      <td>42578</td>\n",
       "      <td>12</td>\n",
       "      <td>85</td>\n",
       "      <td>33.70677</td>\n",
       "      <td>-116.23391</td>\n",
       "      <td>No</td>\n",
       "      <td>Yes</td>\n",
       "    </tr>\n",
       "    <tr>\n",
       "      <th>2489</th>\n",
       "      <td>106331216</td>\n",
       "      <td>John F. Kennedy Memorial Hospital</td>\n",
       "      <td>Riverside</td>\n",
       "      <td>Tenet Healthcare Corporation</td>\n",
       "      <td>100-149</td>\n",
       "      <td>Investor Owned</td>\n",
       "      <td>Urban</td>\n",
       "      <td>Non-Teaching</td>\n",
       "      <td>COPD</td>\n",
       "      <td>42578</td>\n",
       "      <td>12</td>\n",
       "      <td>188</td>\n",
       "      <td>33.70677</td>\n",
       "      <td>-116.23391</td>\n",
       "      <td>No</td>\n",
       "      <td>Yes</td>\n",
       "    </tr>\n",
       "    <tr>\n",
       "      <th>2490</th>\n",
       "      <td>106331216</td>\n",
       "      <td>John F. Kennedy Memorial Hospital</td>\n",
       "      <td>Riverside</td>\n",
       "      <td>Tenet Healthcare Corporation</td>\n",
       "      <td>100-149</td>\n",
       "      <td>Investor Owned</td>\n",
       "      <td>Urban</td>\n",
       "      <td>Non-Teaching</td>\n",
       "      <td>Asthma</td>\n",
       "      <td>42578</td>\n",
       "      <td>12</td>\n",
       "      <td>827</td>\n",
       "      <td>33.70677</td>\n",
       "      <td>-116.23391</td>\n",
       "      <td>No</td>\n",
       "      <td>Yes</td>\n",
       "    </tr>\n",
       "    <tr>\n",
       "      <th>2491</th>\n",
       "      <td>106331216</td>\n",
       "      <td>John F. Kennedy Memorial Hospital</td>\n",
       "      <td>Riverside</td>\n",
       "      <td>Tenet Healthcare Corporation</td>\n",
       "      <td>100-149</td>\n",
       "      <td>Investor Owned</td>\n",
       "      <td>Urban</td>\n",
       "      <td>Non-Teaching</td>\n",
       "      <td>Diabetes</td>\n",
       "      <td>42578</td>\n",
       "      <td>12</td>\n",
       "      <td>2754</td>\n",
       "      <td>33.70677</td>\n",
       "      <td>-116.23391</td>\n",
       "      <td>No</td>\n",
       "      <td>Yes</td>\n",
       "    </tr>\n",
       "    <tr>\n",
       "      <th>2492</th>\n",
       "      <td>106331216</td>\n",
       "      <td>John F. Kennedy Memorial Hospital</td>\n",
       "      <td>Riverside</td>\n",
       "      <td>Tenet Healthcare Corporation</td>\n",
       "      <td>100-149</td>\n",
       "      <td>Investor Owned</td>\n",
       "      <td>Urban</td>\n",
       "      <td>Non-Teaching</td>\n",
       "      <td>Homeless</td>\n",
       "      <td>42578</td>\n",
       "      <td>12</td>\n",
       "      <td>752</td>\n",
       "      <td>33.70677</td>\n",
       "      <td>-116.23391</td>\n",
       "      <td>No</td>\n",
       "      <td>Yes</td>\n",
       "    </tr>\n",
       "    <tr>\n",
       "      <th>2493</th>\n",
       "      <td>106331216</td>\n",
       "      <td>John F. Kennedy Memorial Hospital</td>\n",
       "      <td>Riverside</td>\n",
       "      <td>Tenet Healthcare Corporation</td>\n",
       "      <td>100-149</td>\n",
       "      <td>Investor Owned</td>\n",
       "      <td>Urban</td>\n",
       "      <td>Non-Teaching</td>\n",
       "      <td>Stroke</td>\n",
       "      <td>42578</td>\n",
       "      <td>12</td>\n",
       "      <td>67</td>\n",
       "      <td>33.70677</td>\n",
       "      <td>-116.23391</td>\n",
       "      <td>No</td>\n",
       "      <td>Yes</td>\n",
       "    </tr>\n",
       "    <tr>\n",
       "      <th>2494</th>\n",
       "      <td>106331216</td>\n",
       "      <td>John F. Kennedy Memorial Hospital</td>\n",
       "      <td>Riverside</td>\n",
       "      <td>Tenet Healthcare Corporation</td>\n",
       "      <td>100-149</td>\n",
       "      <td>Investor Owned</td>\n",
       "      <td>Urban</td>\n",
       "      <td>Non-Teaching</td>\n",
       "      <td>COVID-19 History</td>\n",
       "      <td>42578</td>\n",
       "      <td>12</td>\n",
       "      <td>242</td>\n",
       "      <td>33.70677</td>\n",
       "      <td>-116.23391</td>\n",
       "      <td>No</td>\n",
       "      <td>Yes</td>\n",
       "    </tr>\n",
       "    <tr>\n",
       "      <th>2495</th>\n",
       "      <td>106331216</td>\n",
       "      <td>John F. Kennedy Memorial Hospital</td>\n",
       "      <td>Riverside</td>\n",
       "      <td>Tenet Healthcare Corporation</td>\n",
       "      <td>100-149</td>\n",
       "      <td>Investor Owned</td>\n",
       "      <td>Urban</td>\n",
       "      <td>Non-Teaching</td>\n",
       "      <td>Active COVID-19</td>\n",
       "      <td>42578</td>\n",
       "      <td>12</td>\n",
       "      <td>833</td>\n",
       "      <td>33.70677</td>\n",
       "      <td>-116.23391</td>\n",
       "      <td>No</td>\n",
       "      <td>Yes</td>\n",
       "    </tr>\n",
       "    <tr>\n",
       "      <th>2496</th>\n",
       "      <td>106331216</td>\n",
       "      <td>John F. Kennedy Memorial Hospital</td>\n",
       "      <td>Riverside</td>\n",
       "      <td>Tenet Healthcare Corporation</td>\n",
       "      <td>100-149</td>\n",
       "      <td>Investor Owned</td>\n",
       "      <td>Urban</td>\n",
       "      <td>Non-Teaching</td>\n",
       "      <td>All ED Visits</td>\n",
       "      <td>42578</td>\n",
       "      <td>12</td>\n",
       "      <td>42578</td>\n",
       "      <td>33.70677</td>\n",
       "      <td>-116.23391</td>\n",
       "      <td>No</td>\n",
       "      <td>Yes</td>\n",
       "    </tr>\n",
       "  </tbody>\n",
       "</table>\n",
       "</div>"
      ],
      "text/plain": [
       "       oshpd_id                      FacilityName2 CountyName  \\\n",
       "2480  106331216  John F. Kennedy Memorial Hospital  Riverside   \n",
       "2481  106331216  John F. Kennedy Memorial Hospital  Riverside   \n",
       "2482  106331216  John F. Kennedy Memorial Hospital  Riverside   \n",
       "2483  106331216  John F. Kennedy Memorial Hospital  Riverside   \n",
       "2484  106331216  John F. Kennedy Memorial Hospital  Riverside   \n",
       "2485  106331216  John F. Kennedy Memorial Hospital  Riverside   \n",
       "2486  106331216  John F. Kennedy Memorial Hospital  Riverside   \n",
       "2487  106331216  John F. Kennedy Memorial Hospital  Riverside   \n",
       "2488  106331216  John F. Kennedy Memorial Hospital  Riverside   \n",
       "2489  106331216  John F. Kennedy Memorial Hospital  Riverside   \n",
       "2490  106331216  John F. Kennedy Memorial Hospital  Riverside   \n",
       "2491  106331216  John F. Kennedy Memorial Hospital  Riverside   \n",
       "2492  106331216  John F. Kennedy Memorial Hospital  Riverside   \n",
       "2493  106331216  John F. Kennedy Memorial Hospital  Riverside   \n",
       "2494  106331216  John F. Kennedy Memorial Hospital  Riverside   \n",
       "2495  106331216  John F. Kennedy Memorial Hospital  Riverside   \n",
       "2496  106331216  John F. Kennedy Memorial Hospital  Riverside   \n",
       "\n",
       "                            system LICENSED_BED_SIZE HospitalOwnership  \\\n",
       "2480  Tenet Healthcare Corporation           100-149    Investor Owned   \n",
       "2481  Tenet Healthcare Corporation           100-149    Investor Owned   \n",
       "2482  Tenet Healthcare Corporation           100-149    Investor Owned   \n",
       "2483  Tenet Healthcare Corporation           100-149    Investor Owned   \n",
       "2484  Tenet Healthcare Corporation           100-149    Investor Owned   \n",
       "2485  Tenet Healthcare Corporation           100-149    Investor Owned   \n",
       "2486  Tenet Healthcare Corporation           100-149    Investor Owned   \n",
       "2487  Tenet Healthcare Corporation           100-149    Investor Owned   \n",
       "2488  Tenet Healthcare Corporation           100-149    Investor Owned   \n",
       "2489  Tenet Healthcare Corporation           100-149    Investor Owned   \n",
       "2490  Tenet Healthcare Corporation           100-149    Investor Owned   \n",
       "2491  Tenet Healthcare Corporation           100-149    Investor Owned   \n",
       "2492  Tenet Healthcare Corporation           100-149    Investor Owned   \n",
       "2493  Tenet Healthcare Corporation           100-149    Investor Owned   \n",
       "2494  Tenet Healthcare Corporation           100-149    Investor Owned   \n",
       "2495  Tenet Healthcare Corporation           100-149    Investor Owned   \n",
       "2496  Tenet Healthcare Corporation           100-149    Investor Owned   \n",
       "\n",
       "     UrbanRuralDesi TEACHINGDesignation          Category  Tot_ED_NmbVsts  \\\n",
       "2480          Urban        Non-Teaching   Substance Abuse           42578   \n",
       "2481          Urban        Non-Teaching       Respiratory           42578   \n",
       "2482          Urban        Non-Teaching         Pneumonia           42578   \n",
       "2483          Urban        Non-Teaching           Cardiac           42578   \n",
       "2484          Urban        Non-Teaching     Mental Health           42578   \n",
       "2485          Urban        Non-Teaching            Cancer           42578   \n",
       "2486          Urban        Non-Teaching           Obesity           42578   \n",
       "2487          Urban        Non-Teaching      Hypertension           42578   \n",
       "2488          Urban        Non-Teaching            Sepsis           42578   \n",
       "2489          Urban        Non-Teaching              COPD           42578   \n",
       "2490          Urban        Non-Teaching            Asthma           42578   \n",
       "2491          Urban        Non-Teaching          Diabetes           42578   \n",
       "2492          Urban        Non-Teaching          Homeless           42578   \n",
       "2493          Urban        Non-Teaching            Stroke           42578   \n",
       "2494          Urban        Non-Teaching  COVID-19 History           42578   \n",
       "2495          Urban        Non-Teaching   Active COVID-19           42578   \n",
       "2496          Urban        Non-Teaching     All ED Visits           42578   \n",
       "\n",
       "      EDStations  EDDXCount  LATITUDE  LONGITUDE PrimaryCareShortageArea  \\\n",
       "2480          12       4813  33.70677 -116.23391                      No   \n",
       "2481          12        150  33.70677 -116.23391                      No   \n",
       "2482          12        461  33.70677 -116.23391                      No   \n",
       "2483          12         72  33.70677 -116.23391                      No   \n",
       "2484          12       3382  33.70677 -116.23391                      No   \n",
       "2485          12        196  33.70677 -116.23391                      No   \n",
       "2486          12        619  33.70677 -116.23391                      No   \n",
       "2487          12       4288  33.70677 -116.23391                      No   \n",
       "2488          12         85  33.70677 -116.23391                      No   \n",
       "2489          12        188  33.70677 -116.23391                      No   \n",
       "2490          12        827  33.70677 -116.23391                      No   \n",
       "2491          12       2754  33.70677 -116.23391                      No   \n",
       "2492          12        752  33.70677 -116.23391                      No   \n",
       "2493          12         67  33.70677 -116.23391                      No   \n",
       "2494          12        242  33.70677 -116.23391                      No   \n",
       "2495          12        833  33.70677 -116.23391                      No   \n",
       "2496          12      42578  33.70677 -116.23391                      No   \n",
       "\n",
       "     MentalHealthShortageArea  \n",
       "2480                      Yes  \n",
       "2481                      Yes  \n",
       "2482                      Yes  \n",
       "2483                      Yes  \n",
       "2484                      Yes  \n",
       "2485                      Yes  \n",
       "2486                      Yes  \n",
       "2487                      Yes  \n",
       "2488                      Yes  \n",
       "2489                      Yes  \n",
       "2490                      Yes  \n",
       "2491                      Yes  \n",
       "2492                      Yes  \n",
       "2493                      Yes  \n",
       "2494                      Yes  \n",
       "2495                      Yes  \n",
       "2496                      Yes  "
      ]
     },
     "execution_count": 4,
     "metadata": {},
     "output_type": "execute_result"
    }
   ],
   "source": [
    "df[df['FacilityName2'] == 'John F. Kennedy Memorial Hospital']"
   ]
  },
  {
   "cell_type": "code",
   "execution_count": 5,
   "metadata": {},
   "outputs": [
    {
     "data": {
      "text/html": [
       "<div>\n",
       "<style scoped>\n",
       "    .dataframe tbody tr th:only-of-type {\n",
       "        vertical-align: middle;\n",
       "    }\n",
       "\n",
       "    .dataframe tbody tr th {\n",
       "        vertical-align: top;\n",
       "    }\n",
       "\n",
       "    .dataframe thead th {\n",
       "        text-align: right;\n",
       "    }\n",
       "</style>\n",
       "<table border=\"1\" class=\"dataframe\">\n",
       "  <thead>\n",
       "    <tr style=\"text-align: right;\">\n",
       "      <th></th>\n",
       "      <th>oshpd_id</th>\n",
       "      <th>FacilityName2</th>\n",
       "      <th>CountyName</th>\n",
       "      <th>system</th>\n",
       "      <th>LICENSED_BED_SIZE</th>\n",
       "      <th>HospitalOwnership</th>\n",
       "      <th>UrbanRuralDesi</th>\n",
       "      <th>TEACHINGDesignation</th>\n",
       "      <th>Category</th>\n",
       "      <th>Tot_ED_NmbVsts</th>\n",
       "      <th>EDStations</th>\n",
       "      <th>EDDXCount</th>\n",
       "      <th>LATITUDE</th>\n",
       "      <th>LONGITUDE</th>\n",
       "      <th>PrimaryCareShortageArea</th>\n",
       "      <th>MentalHealthShortageArea</th>\n",
       "    </tr>\n",
       "  </thead>\n",
       "  <tbody>\n",
       "    <tr>\n",
       "      <th>187</th>\n",
       "      <td>106040802</td>\n",
       "      <td>Orchard Hospital</td>\n",
       "      <td>Butte</td>\n",
       "      <td>NaN</td>\n",
       "      <td>100-149</td>\n",
       "      <td>Nonprofit</td>\n",
       "      <td>Rural</td>\n",
       "      <td>Non-Teaching</td>\n",
       "      <td>COVID-19 History</td>\n",
       "      <td>9092</td>\n",
       "      <td>5</td>\n",
       "      <td>114</td>\n",
       "      <td>39.367010</td>\n",
       "      <td>-121.689550</td>\n",
       "      <td>Yes</td>\n",
       "      <td>Yes</td>\n",
       "    </tr>\n",
       "    <tr>\n",
       "      <th>188</th>\n",
       "      <td>106040802</td>\n",
       "      <td>Orchard Hospital</td>\n",
       "      <td>Butte</td>\n",
       "      <td>NaN</td>\n",
       "      <td>100-149</td>\n",
       "      <td>Nonprofit</td>\n",
       "      <td>Rural</td>\n",
       "      <td>Non-Teaching</td>\n",
       "      <td>Pneumonia</td>\n",
       "      <td>9092</td>\n",
       "      <td>5</td>\n",
       "      <td>292</td>\n",
       "      <td>39.367010</td>\n",
       "      <td>-121.689550</td>\n",
       "      <td>Yes</td>\n",
       "      <td>Yes</td>\n",
       "    </tr>\n",
       "    <tr>\n",
       "      <th>189</th>\n",
       "      <td>106040802</td>\n",
       "      <td>Orchard Hospital</td>\n",
       "      <td>Butte</td>\n",
       "      <td>NaN</td>\n",
       "      <td>100-149</td>\n",
       "      <td>Nonprofit</td>\n",
       "      <td>Rural</td>\n",
       "      <td>Non-Teaching</td>\n",
       "      <td>Mental Health</td>\n",
       "      <td>9092</td>\n",
       "      <td>5</td>\n",
       "      <td>394</td>\n",
       "      <td>39.367010</td>\n",
       "      <td>-121.689550</td>\n",
       "      <td>Yes</td>\n",
       "      <td>Yes</td>\n",
       "    </tr>\n",
       "    <tr>\n",
       "      <th>190</th>\n",
       "      <td>106040802</td>\n",
       "      <td>Orchard Hospital</td>\n",
       "      <td>Butte</td>\n",
       "      <td>NaN</td>\n",
       "      <td>100-149</td>\n",
       "      <td>Nonprofit</td>\n",
       "      <td>Rural</td>\n",
       "      <td>Non-Teaching</td>\n",
       "      <td>Hypertension</td>\n",
       "      <td>9092</td>\n",
       "      <td>5</td>\n",
       "      <td>388</td>\n",
       "      <td>39.367010</td>\n",
       "      <td>-121.689550</td>\n",
       "      <td>Yes</td>\n",
       "      <td>Yes</td>\n",
       "    </tr>\n",
       "    <tr>\n",
       "      <th>191</th>\n",
       "      <td>106040802</td>\n",
       "      <td>Orchard Hospital</td>\n",
       "      <td>Butte</td>\n",
       "      <td>NaN</td>\n",
       "      <td>100-149</td>\n",
       "      <td>Nonprofit</td>\n",
       "      <td>Rural</td>\n",
       "      <td>Non-Teaching</td>\n",
       "      <td>Diabetes</td>\n",
       "      <td>9092</td>\n",
       "      <td>5</td>\n",
       "      <td>327</td>\n",
       "      <td>39.367010</td>\n",
       "      <td>-121.689550</td>\n",
       "      <td>Yes</td>\n",
       "      <td>Yes</td>\n",
       "    </tr>\n",
       "    <tr>\n",
       "      <th>...</th>\n",
       "      <td>...</td>\n",
       "      <td>...</td>\n",
       "      <td>...</td>\n",
       "      <td>...</td>\n",
       "      <td>...</td>\n",
       "      <td>...</td>\n",
       "      <td>...</td>\n",
       "      <td>...</td>\n",
       "      <td>...</td>\n",
       "      <td>...</td>\n",
       "      <td>...</td>\n",
       "      <td>...</td>\n",
       "      <td>...</td>\n",
       "      <td>...</td>\n",
       "      <td>...</td>\n",
       "      <td>...</td>\n",
       "    </tr>\n",
       "    <tr>\n",
       "      <th>4260</th>\n",
       "      <td>106580996</td>\n",
       "      <td>Adventist Health and Rideout</td>\n",
       "      <td>Yuba</td>\n",
       "      <td>Adventist Health Systems</td>\n",
       "      <td>200-299</td>\n",
       "      <td>Nonprofit</td>\n",
       "      <td>Rural</td>\n",
       "      <td>Non-Teaching</td>\n",
       "      <td>Homeless</td>\n",
       "      <td>55341</td>\n",
       "      <td>44</td>\n",
       "      <td>2953</td>\n",
       "      <td>39.138805</td>\n",
       "      <td>-121.593602</td>\n",
       "      <td>Yes</td>\n",
       "      <td>Yes</td>\n",
       "    </tr>\n",
       "    <tr>\n",
       "      <th>4261</th>\n",
       "      <td>106580996</td>\n",
       "      <td>Adventist Health and Rideout</td>\n",
       "      <td>Yuba</td>\n",
       "      <td>Adventist Health Systems</td>\n",
       "      <td>200-299</td>\n",
       "      <td>Nonprofit</td>\n",
       "      <td>Rural</td>\n",
       "      <td>Non-Teaching</td>\n",
       "      <td>Stroke</td>\n",
       "      <td>55341</td>\n",
       "      <td>44</td>\n",
       "      <td>64</td>\n",
       "      <td>39.138805</td>\n",
       "      <td>-121.593602</td>\n",
       "      <td>Yes</td>\n",
       "      <td>Yes</td>\n",
       "    </tr>\n",
       "    <tr>\n",
       "      <th>4262</th>\n",
       "      <td>106580996</td>\n",
       "      <td>Adventist Health and Rideout</td>\n",
       "      <td>Yuba</td>\n",
       "      <td>Adventist Health Systems</td>\n",
       "      <td>200-299</td>\n",
       "      <td>Nonprofit</td>\n",
       "      <td>Rural</td>\n",
       "      <td>Non-Teaching</td>\n",
       "      <td>COVID-19 History</td>\n",
       "      <td>55341</td>\n",
       "      <td>44</td>\n",
       "      <td>358</td>\n",
       "      <td>39.138805</td>\n",
       "      <td>-121.593602</td>\n",
       "      <td>Yes</td>\n",
       "      <td>Yes</td>\n",
       "    </tr>\n",
       "    <tr>\n",
       "      <th>4263</th>\n",
       "      <td>106580996</td>\n",
       "      <td>Adventist Health and Rideout</td>\n",
       "      <td>Yuba</td>\n",
       "      <td>Adventist Health Systems</td>\n",
       "      <td>200-299</td>\n",
       "      <td>Nonprofit</td>\n",
       "      <td>Rural</td>\n",
       "      <td>Non-Teaching</td>\n",
       "      <td>Active COVID-19</td>\n",
       "      <td>55341</td>\n",
       "      <td>44</td>\n",
       "      <td>2392</td>\n",
       "      <td>39.138805</td>\n",
       "      <td>-121.593602</td>\n",
       "      <td>Yes</td>\n",
       "      <td>Yes</td>\n",
       "    </tr>\n",
       "    <tr>\n",
       "      <th>4264</th>\n",
       "      <td>106580996</td>\n",
       "      <td>Adventist Health and Rideout</td>\n",
       "      <td>Yuba</td>\n",
       "      <td>Adventist Health Systems</td>\n",
       "      <td>200-299</td>\n",
       "      <td>Nonprofit</td>\n",
       "      <td>Rural</td>\n",
       "      <td>Non-Teaching</td>\n",
       "      <td>All ED Visits</td>\n",
       "      <td>55341</td>\n",
       "      <td>44</td>\n",
       "      <td>55341</td>\n",
       "      <td>39.138805</td>\n",
       "      <td>-121.593602</td>\n",
       "      <td>Yes</td>\n",
       "      <td>Yes</td>\n",
       "    </tr>\n",
       "  </tbody>\n",
       "</table>\n",
       "<p>1700 rows × 16 columns</p>\n",
       "</div>"
      ],
      "text/plain": [
       "       oshpd_id                 FacilityName2 CountyName  \\\n",
       "187   106040802              Orchard Hospital      Butte   \n",
       "188   106040802              Orchard Hospital      Butte   \n",
       "189   106040802              Orchard Hospital      Butte   \n",
       "190   106040802              Orchard Hospital      Butte   \n",
       "191   106040802              Orchard Hospital      Butte   \n",
       "...         ...                           ...        ...   \n",
       "4260  106580996  Adventist Health and Rideout       Yuba   \n",
       "4261  106580996  Adventist Health and Rideout       Yuba   \n",
       "4262  106580996  Adventist Health and Rideout       Yuba   \n",
       "4263  106580996  Adventist Health and Rideout       Yuba   \n",
       "4264  106580996  Adventist Health and Rideout       Yuba   \n",
       "\n",
       "                        system LICENSED_BED_SIZE HospitalOwnership  \\\n",
       "187                        NaN           100-149         Nonprofit   \n",
       "188                        NaN           100-149         Nonprofit   \n",
       "189                        NaN           100-149         Nonprofit   \n",
       "190                        NaN           100-149         Nonprofit   \n",
       "191                        NaN           100-149         Nonprofit   \n",
       "...                        ...               ...               ...   \n",
       "4260  Adventist Health Systems           200-299         Nonprofit   \n",
       "4261  Adventist Health Systems           200-299         Nonprofit   \n",
       "4262  Adventist Health Systems           200-299         Nonprofit   \n",
       "4263  Adventist Health Systems           200-299         Nonprofit   \n",
       "4264  Adventist Health Systems           200-299         Nonprofit   \n",
       "\n",
       "     UrbanRuralDesi TEACHINGDesignation          Category  Tot_ED_NmbVsts  \\\n",
       "187           Rural        Non-Teaching  COVID-19 History            9092   \n",
       "188           Rural        Non-Teaching         Pneumonia            9092   \n",
       "189           Rural        Non-Teaching     Mental Health            9092   \n",
       "190           Rural        Non-Teaching      Hypertension            9092   \n",
       "191           Rural        Non-Teaching          Diabetes            9092   \n",
       "...             ...                 ...               ...             ...   \n",
       "4260          Rural        Non-Teaching          Homeless           55341   \n",
       "4261          Rural        Non-Teaching            Stroke           55341   \n",
       "4262          Rural        Non-Teaching  COVID-19 History           55341   \n",
       "4263          Rural        Non-Teaching   Active COVID-19           55341   \n",
       "4264          Rural        Non-Teaching     All ED Visits           55341   \n",
       "\n",
       "      EDStations  EDDXCount   LATITUDE   LONGITUDE PrimaryCareShortageArea  \\\n",
       "187            5        114  39.367010 -121.689550                     Yes   \n",
       "188            5        292  39.367010 -121.689550                     Yes   \n",
       "189            5        394  39.367010 -121.689550                     Yes   \n",
       "190            5        388  39.367010 -121.689550                     Yes   \n",
       "191            5        327  39.367010 -121.689550                     Yes   \n",
       "...          ...        ...        ...         ...                     ...   \n",
       "4260          44       2953  39.138805 -121.593602                     Yes   \n",
       "4261          44         64  39.138805 -121.593602                     Yes   \n",
       "4262          44        358  39.138805 -121.593602                     Yes   \n",
       "4263          44       2392  39.138805 -121.593602                     Yes   \n",
       "4264          44      55341  39.138805 -121.593602                     Yes   \n",
       "\n",
       "     MentalHealthShortageArea  \n",
       "187                       Yes  \n",
       "188                       Yes  \n",
       "189                       Yes  \n",
       "190                       Yes  \n",
       "191                       Yes  \n",
       "...                       ...  \n",
       "4260                      Yes  \n",
       "4261                      Yes  \n",
       "4262                      Yes  \n",
       "4263                      Yes  \n",
       "4264                      Yes  \n",
       "\n",
       "[1700 rows x 16 columns]"
      ]
     },
     "execution_count": 5,
     "metadata": {},
     "output_type": "execute_result"
    }
   ],
   "source": [
    "df_mhshort = df[df['MentalHealthShortageArea'] == 'Yes']\n",
    "df_mhshort"
   ]
  },
  {
   "cell_type": "code",
   "execution_count": 6,
   "metadata": {},
   "outputs": [
    {
     "data": {
      "text/html": [
       "<div>\n",
       "<style scoped>\n",
       "    .dataframe tbody tr th:only-of-type {\n",
       "        vertical-align: middle;\n",
       "    }\n",
       "\n",
       "    .dataframe tbody tr th {\n",
       "        vertical-align: top;\n",
       "    }\n",
       "\n",
       "    .dataframe thead th {\n",
       "        text-align: right;\n",
       "    }\n",
       "</style>\n",
       "<table border=\"1\" class=\"dataframe\">\n",
       "  <thead>\n",
       "    <tr style=\"text-align: right;\">\n",
       "      <th></th>\n",
       "      <th>CountyName</th>\n",
       "      <th>LATITUDE</th>\n",
       "      <th>LONGITUDE</th>\n",
       "      <th>EDDXCount</th>\n",
       "    </tr>\n",
       "  </thead>\n",
       "  <tbody>\n",
       "    <tr>\n",
       "      <th>0</th>\n",
       "      <td>Butte</td>\n",
       "      <td>39.367010</td>\n",
       "      <td>-121.689550</td>\n",
       "      <td>13702</td>\n",
       "    </tr>\n",
       "    <tr>\n",
       "      <th>1</th>\n",
       "      <td>Butte</td>\n",
       "      <td>39.504850</td>\n",
       "      <td>-121.542800</td>\n",
       "      <td>13393</td>\n",
       "    </tr>\n",
       "    <tr>\n",
       "      <th>2</th>\n",
       "      <td>Butte</td>\n",
       "      <td>39.742260</td>\n",
       "      <td>-121.849180</td>\n",
       "      <td>93301</td>\n",
       "    </tr>\n",
       "    <tr>\n",
       "      <th>3</th>\n",
       "      <td>Calaveras</td>\n",
       "      <td>38.190570</td>\n",
       "      <td>-120.670950</td>\n",
       "      <td>18628</td>\n",
       "    </tr>\n",
       "    <tr>\n",
       "      <th>4</th>\n",
       "      <td>Del Norte</td>\n",
       "      <td>41.772780</td>\n",
       "      <td>-124.195140</td>\n",
       "      <td>19797</td>\n",
       "    </tr>\n",
       "    <tr>\n",
       "      <th>...</th>\n",
       "      <td>...</td>\n",
       "      <td>...</td>\n",
       "      <td>...</td>\n",
       "      <td>...</td>\n",
       "    </tr>\n",
       "    <tr>\n",
       "      <th>95</th>\n",
       "      <td>Tuolumne</td>\n",
       "      <td>37.975680</td>\n",
       "      <td>-120.369000</td>\n",
       "      <td>50361</td>\n",
       "    </tr>\n",
       "    <tr>\n",
       "      <th>96</th>\n",
       "      <td>Ventura</td>\n",
       "      <td>34.216870</td>\n",
       "      <td>-119.158190</td>\n",
       "      <td>71452</td>\n",
       "    </tr>\n",
       "    <tr>\n",
       "      <th>97</th>\n",
       "      <td>Yolo</td>\n",
       "      <td>38.562890</td>\n",
       "      <td>-121.771640</td>\n",
       "      <td>34901</td>\n",
       "    </tr>\n",
       "    <tr>\n",
       "      <th>98</th>\n",
       "      <td>Yolo</td>\n",
       "      <td>38.662840</td>\n",
       "      <td>-121.793300</td>\n",
       "      <td>43359</td>\n",
       "    </tr>\n",
       "    <tr>\n",
       "      <th>99</th>\n",
       "      <td>Yuba</td>\n",
       "      <td>39.138805</td>\n",
       "      <td>-121.593602</td>\n",
       "      <td>94088</td>\n",
       "    </tr>\n",
       "  </tbody>\n",
       "</table>\n",
       "<p>100 rows × 4 columns</p>\n",
       "</div>"
      ],
      "text/plain": [
       "   CountyName   LATITUDE   LONGITUDE  EDDXCount\n",
       "0       Butte  39.367010 -121.689550      13702\n",
       "1       Butte  39.504850 -121.542800      13393\n",
       "2       Butte  39.742260 -121.849180      93301\n",
       "3   Calaveras  38.190570 -120.670950      18628\n",
       "4   Del Norte  41.772780 -124.195140      19797\n",
       "..        ...        ...         ...        ...\n",
       "95   Tuolumne  37.975680 -120.369000      50361\n",
       "96    Ventura  34.216870 -119.158190      71452\n",
       "97       Yolo  38.562890 -121.771640      34901\n",
       "98       Yolo  38.662840 -121.793300      43359\n",
       "99       Yuba  39.138805 -121.593602      94088\n",
       "\n",
       "[100 rows x 4 columns]"
      ]
     },
     "execution_count": 6,
     "metadata": {},
     "output_type": "execute_result"
    }
   ],
   "source": [
    "total_eddxcount = df_mhshort.groupby(['CountyName', 'LATITUDE', 'LONGITUDE']).agg({'EDDXCount': 'sum'}).reset_index()\n",
    "total_eddxcount"
   ]
  },
  {
   "cell_type": "code",
   "execution_count": 7,
   "metadata": {},
   "outputs": [],
   "source": [
    "#total_eddxcount['fips'] = ['06007', '06009', '06015', '06017', '06019', '06021', '06023', '06025', '06029',\n",
    "                           #'06031', '06033', '06035', '06037', '06039', '06043', '06045', '06047', '06049',\n",
    "                           #'06053', '06057', '06061', '06063', '06065', '06071', '06073', '06075', '06077',\n",
    "                           #'06079', '06083', '06089', '06093', '06097', '06103', '06107', '06109', '06111',\n",
    "                           #'06113', '06115']\n",
    "#total_eddxcount"
   ]
  },
  {
   "cell_type": "code",
   "execution_count": 8,
   "metadata": {},
   "outputs": [],
   "source": [
    "# fig = px.scatter_mapbox(total_eddxcount, \n",
    "#                         lat=\"LATITUDE\", \n",
    "#                         lon=\"LONGITUDE\", \n",
    "#                         color=\"EDDXCount\",\n",
    "#                         size=\"EDDXCount\",\n",
    "#                         hover_name=\"EDDXCount\", \n",
    "#                         hover_data=[\"CountyName\", \"EDDXCount\"],\n",
    "#                         zoom=8, \n",
    "#                         height=700,\n",
    "#                         width=700,\n",
    "#                         title=\"Number of Emergency Departments Visits In Mental Health Shortage Areas\")\n",
    "# fig.update_layout(mapbox_style=\"open-street-map\")\n",
    "# fig.show()"
   ]
  },
  {
   "cell_type": "code",
   "execution_count": 9,
   "metadata": {},
   "outputs": [],
   "source": [
    "##heatmap = ff.create_choropleth(fips=total_eddxcount['fips'], values=total_eddxcount['EDDXCount'])\n",
    "\n",
    "##heatmap = px.choropleth(total_eddxcount, geojson=counties, locations = 'fips', \n",
    "                    ##color = 'EDDXCount',\n",
    "                    ##scope = 'usa', title = 'EDDXCount In Mental Health Shortage Areas')\n",
    "##heatmap.show()"
   ]
  },
  {
   "cell_type": "code",
   "execution_count": 10,
   "metadata": {},
   "outputs": [
    {
     "data": {
      "text/plain": [
       "Text(0.5, 1.0, 'Distribution of Hospital Ownership for all Facilities')"
      ]
     },
     "execution_count": 10,
     "metadata": {},
     "output_type": "execute_result"
    },
    {
     "data": {
      "image/png": "[encoded data removed]",
      "text/plain": [
       "<Figure size 640x480 with 1 Axes>"
      ]
     },
     "metadata": {},
     "output_type": "display_data"
    }
   ],
   "source": [
    "sns.histplot(df, x = 'HospitalOwnership')\n",
    "plt.title(\"Distribution of Hospital Ownership for all Facilities\")"
   ]
  },
  {
   "cell_type": "code",
   "execution_count": 11,
   "metadata": {},
   "outputs": [
    {
     "data": {
      "text/plain": [
       "Text(0.5, 1.0, 'Distribution of Hospital Ownership for all Facilities in Mental Health Shortage Area')"
      ]
     },
     "execution_count": 11,
     "metadata": {},
     "output_type": "execute_result"
    },
    {
     "data": {
      "image/png": "[encoded data removed]",
      "text/plain": [
       "<Figure size 640x480 with 1 Axes>"
      ]
     },
     "metadata": {},
     "output_type": "display_data"
    }
   ],
   "source": [
    "sns.histplot(df_mhshort, x = 'HospitalOwnership')\n",
    "plt.title(\"Distribution of Hospital Ownership for all Facilities in Mental Health Shortage Area\")"
   ]
  },
  {
   "cell_type": "code",
   "execution_count": 12,
   "metadata": {},
   "outputs": [
    {
     "data": {
      "text/plain": [
       "Text(0.5, 1.0, 'Distribution of Hospital Ownership for all Facilities in Primary Care Shortage Area')"
      ]
     },
     "execution_count": 12,
     "metadata": {},
     "output_type": "execute_result"
    },
    {
     "data": {
      "image/png": "[encoded data removed]",
      "text/plain": [
       "<Figure size 640x480 with 1 Axes>"
      ]
     },
     "metadata": {},
     "output_type": "display_data"
    }
   ],
   "source": [
    "df_pcshort = df[df['PrimaryCareShortageArea'] == 'Yes']\n",
    "sns.histplot(df_mhshort, x = 'HospitalOwnership')\n",
    "plt.title(\"Distribution of Hospital Ownership for all Facilities in Primary Care Shortage Area\")"
   ]
  },
  {
   "cell_type": "code",
   "execution_count": 13,
   "metadata": {},
   "outputs": [
    {
     "data": {
      "text/html": [
       "<div>\n",
       "<style scoped>\n",
       "    .dataframe tbody tr th:only-of-type {\n",
       "        vertical-align: middle;\n",
       "    }\n",
       "\n",
       "    .dataframe tbody tr th {\n",
       "        vertical-align: top;\n",
       "    }\n",
       "\n",
       "    .dataframe thead th {\n",
       "        text-align: right;\n",
       "    }\n",
       "</style>\n",
       "<table border=\"1\" class=\"dataframe\">\n",
       "  <thead>\n",
       "    <tr style=\"text-align: right;\">\n",
       "      <th></th>\n",
       "      <th>FacilityName2</th>\n",
       "      <th>LATITUDE</th>\n",
       "      <th>LONGITUDE</th>\n",
       "      <th>Tot_ED_NmbVsts</th>\n",
       "      <th>EDStations</th>\n",
       "      <th>EDDXCount</th>\n",
       "    </tr>\n",
       "  </thead>\n",
       "  <tbody>\n",
       "    <tr>\n",
       "      <th>0</th>\n",
       "      <td>Adventist Health Clearlake</td>\n",
       "      <td>38.936190</td>\n",
       "      <td>-122.620200</td>\n",
       "      <td>17699</td>\n",
       "      <td>8</td>\n",
       "      <td>37175</td>\n",
       "    </tr>\n",
       "    <tr>\n",
       "      <th>1</th>\n",
       "      <td>Adventist Health Hanford</td>\n",
       "      <td>36.325625</td>\n",
       "      <td>-119.668391</td>\n",
       "      <td>80442</td>\n",
       "      <td>34</td>\n",
       "      <td>123847</td>\n",
       "    </tr>\n",
       "    <tr>\n",
       "      <th>2</th>\n",
       "      <td>Adventist Health Howard Memorial</td>\n",
       "      <td>39.399270</td>\n",
       "      <td>-123.354860</td>\n",
       "      <td>12451</td>\n",
       "      <td>9</td>\n",
       "      <td>21957</td>\n",
       "    </tr>\n",
       "    <tr>\n",
       "      <th>3</th>\n",
       "      <td>Adventist Health Lodi Memorial</td>\n",
       "      <td>38.121460</td>\n",
       "      <td>-121.285900</td>\n",
       "      <td>42735</td>\n",
       "      <td>28</td>\n",
       "      <td>81320</td>\n",
       "    </tr>\n",
       "    <tr>\n",
       "      <th>4</th>\n",
       "      <td>Adventist Health Mendocino Coast</td>\n",
       "      <td>39.432600</td>\n",
       "      <td>-123.800680</td>\n",
       "      <td>8568</td>\n",
       "      <td>6</td>\n",
       "      <td>13920</td>\n",
       "    </tr>\n",
       "    <tr>\n",
       "      <th>...</th>\n",
       "      <td>...</td>\n",
       "      <td>...</td>\n",
       "      <td>...</td>\n",
       "      <td>...</td>\n",
       "      <td>...</td>\n",
       "      <td>...</td>\n",
       "    </tr>\n",
       "    <tr>\n",
       "      <th>246</th>\n",
       "      <td>Washington Hospital  Fremont</td>\n",
       "      <td>37.558470</td>\n",
       "      <td>-121.980060</td>\n",
       "      <td>37111</td>\n",
       "      <td>39</td>\n",
       "      <td>63113</td>\n",
       "    </tr>\n",
       "    <tr>\n",
       "      <th>247</th>\n",
       "      <td>Watsonville Community Hospital</td>\n",
       "      <td>36.928390</td>\n",
       "      <td>-121.791730</td>\n",
       "      <td>24835</td>\n",
       "      <td>16</td>\n",
       "      <td>42643</td>\n",
       "    </tr>\n",
       "    <tr>\n",
       "      <th>248</th>\n",
       "      <td>West Anaheim Medical Center</td>\n",
       "      <td>33.824820</td>\n",
       "      <td>-117.994920</td>\n",
       "      <td>22101</td>\n",
       "      <td>24</td>\n",
       "      <td>46221</td>\n",
       "    </tr>\n",
       "    <tr>\n",
       "      <th>249</th>\n",
       "      <td>West Hills Hospital and Medical Center</td>\n",
       "      <td>34.203370</td>\n",
       "      <td>-118.629390</td>\n",
       "      <td>39834</td>\n",
       "      <td>30</td>\n",
       "      <td>66750</td>\n",
       "    </tr>\n",
       "    <tr>\n",
       "      <th>250</th>\n",
       "      <td>Woodland Memorial Hospital</td>\n",
       "      <td>38.662840</td>\n",
       "      <td>-121.793300</td>\n",
       "      <td>22210</td>\n",
       "      <td>17</td>\n",
       "      <td>43359</td>\n",
       "    </tr>\n",
       "  </tbody>\n",
       "</table>\n",
       "<p>251 rows × 6 columns</p>\n",
       "</div>"
      ],
      "text/plain": [
       "                              FacilityName2   LATITUDE   LONGITUDE  \\\n",
       "0                Adventist Health Clearlake  38.936190 -122.620200   \n",
       "1                  Adventist Health Hanford  36.325625 -119.668391   \n",
       "2          Adventist Health Howard Memorial  39.399270 -123.354860   \n",
       "3            Adventist Health Lodi Memorial  38.121460 -121.285900   \n",
       "4          Adventist Health Mendocino Coast  39.432600 -123.800680   \n",
       "..                                      ...        ...         ...   \n",
       "246           Washington Hospital  Fremont  37.558470 -121.980060   \n",
       "247          Watsonville Community Hospital  36.928390 -121.791730   \n",
       "248             West Anaheim Medical Center  33.824820 -117.994920   \n",
       "249  West Hills Hospital and Medical Center  34.203370 -118.629390   \n",
       "250              Woodland Memorial Hospital  38.662840 -121.793300   \n",
       "\n",
       "     Tot_ED_NmbVsts  EDStations  EDDXCount  \n",
       "0             17699           8      37175  \n",
       "1             80442          34     123847  \n",
       "2             12451           9      21957  \n",
       "3             42735          28      81320  \n",
       "4              8568           6      13920  \n",
       "..              ...         ...        ...  \n",
       "246           37111          39      63113  \n",
       "247           24835          16      42643  \n",
       "248           22101          24      46221  \n",
       "249           39834          30      66750  \n",
       "250           22210          17      43359  \n",
       "\n",
       "[251 rows x 6 columns]"
      ]
     },
     "execution_count": 13,
     "metadata": {},
     "output_type": "execute_result"
    }
   ],
   "source": [
    "total_eddxcount_pc = df.groupby(['FacilityName2', 'LATITUDE', 'LONGITUDE', 'Tot_ED_NmbVsts', 'EDStations']).agg({'EDDXCount': 'sum'}).reset_index()\n",
    "total_eddxcount_pc"
   ]
  },
  {
   "cell_type": "code",
   "execution_count": 14,
   "metadata": {},
   "outputs": [
    {
     "data": {
      "text/html": [
       "<div>\n",
       "<style scoped>\n",
       "    .dataframe tbody tr th:only-of-type {\n",
       "        vertical-align: middle;\n",
       "    }\n",
       "\n",
       "    .dataframe tbody tr th {\n",
       "        vertical-align: top;\n",
       "    }\n",
       "\n",
       "    .dataframe thead th {\n",
       "        text-align: right;\n",
       "    }\n",
       "</style>\n",
       "<table border=\"1\" class=\"dataframe\">\n",
       "  <thead>\n",
       "    <tr style=\"text-align: right;\">\n",
       "      <th></th>\n",
       "      <th>oshpd_id</th>\n",
       "      <th>FacilityName2</th>\n",
       "      <th>CountyName</th>\n",
       "      <th>system</th>\n",
       "      <th>LICENSED_BED_SIZE</th>\n",
       "      <th>HospitalOwnership</th>\n",
       "      <th>UrbanRuralDesi</th>\n",
       "      <th>TEACHINGDesignation</th>\n",
       "      <th>Category</th>\n",
       "      <th>Tot_ED_NmbVsts</th>\n",
       "      <th>EDStations</th>\n",
       "      <th>EDDXCount</th>\n",
       "      <th>LATITUDE</th>\n",
       "      <th>LONGITUDE</th>\n",
       "      <th>PrimaryCareShortageArea</th>\n",
       "      <th>MentalHealthShortageArea</th>\n",
       "    </tr>\n",
       "  </thead>\n",
       "  <tbody>\n",
       "    <tr>\n",
       "      <th>3177</th>\n",
       "      <td>106380857</td>\n",
       "      <td>Kaiser Foundation Hospital  San Francisco</td>\n",
       "      <td>San Francisco</td>\n",
       "      <td>Kaiser Foundation Hospitals</td>\n",
       "      <td>200-299</td>\n",
       "      <td>Nonprofit</td>\n",
       "      <td>Urban</td>\n",
       "      <td>Teaching</td>\n",
       "      <td>Substance Abuse</td>\n",
       "      <td>29199</td>\n",
       "      <td>26</td>\n",
       "      <td>3465</td>\n",
       "      <td>37.78274</td>\n",
       "      <td>-122.44289</td>\n",
       "      <td>No</td>\n",
       "      <td>No</td>\n",
       "    </tr>\n",
       "    <tr>\n",
       "      <th>3178</th>\n",
       "      <td>106380857</td>\n",
       "      <td>Kaiser Foundation Hospital  San Francisco</td>\n",
       "      <td>San Francisco</td>\n",
       "      <td>Kaiser Foundation Hospitals</td>\n",
       "      <td>200-299</td>\n",
       "      <td>Nonprofit</td>\n",
       "      <td>Urban</td>\n",
       "      <td>Teaching</td>\n",
       "      <td>Mental Health</td>\n",
       "      <td>29199</td>\n",
       "      <td>26</td>\n",
       "      <td>5302</td>\n",
       "      <td>37.78274</td>\n",
       "      <td>-122.44289</td>\n",
       "      <td>No</td>\n",
       "      <td>No</td>\n",
       "    </tr>\n",
       "    <tr>\n",
       "      <th>3179</th>\n",
       "      <td>106380857</td>\n",
       "      <td>Kaiser Foundation Hospital  San Francisco</td>\n",
       "      <td>San Francisco</td>\n",
       "      <td>Kaiser Foundation Hospitals</td>\n",
       "      <td>200-299</td>\n",
       "      <td>Nonprofit</td>\n",
       "      <td>Urban</td>\n",
       "      <td>Teaching</td>\n",
       "      <td>Respiratory</td>\n",
       "      <td>29199</td>\n",
       "      <td>26</td>\n",
       "      <td>118</td>\n",
       "      <td>37.78274</td>\n",
       "      <td>-122.44289</td>\n",
       "      <td>No</td>\n",
       "      <td>No</td>\n",
       "    </tr>\n",
       "    <tr>\n",
       "      <th>3180</th>\n",
       "      <td>106380857</td>\n",
       "      <td>Kaiser Foundation Hospital  San Francisco</td>\n",
       "      <td>San Francisco</td>\n",
       "      <td>Kaiser Foundation Hospitals</td>\n",
       "      <td>200-299</td>\n",
       "      <td>Nonprofit</td>\n",
       "      <td>Urban</td>\n",
       "      <td>Teaching</td>\n",
       "      <td>Pneumonia</td>\n",
       "      <td>29199</td>\n",
       "      <td>26</td>\n",
       "      <td>259</td>\n",
       "      <td>37.78274</td>\n",
       "      <td>-122.44289</td>\n",
       "      <td>No</td>\n",
       "      <td>No</td>\n",
       "    </tr>\n",
       "    <tr>\n",
       "      <th>3181</th>\n",
       "      <td>106380857</td>\n",
       "      <td>Kaiser Foundation Hospital  San Francisco</td>\n",
       "      <td>San Francisco</td>\n",
       "      <td>Kaiser Foundation Hospitals</td>\n",
       "      <td>200-299</td>\n",
       "      <td>Nonprofit</td>\n",
       "      <td>Urban</td>\n",
       "      <td>Teaching</td>\n",
       "      <td>Cardiac</td>\n",
       "      <td>29199</td>\n",
       "      <td>26</td>\n",
       "      <td>17</td>\n",
       "      <td>37.78274</td>\n",
       "      <td>-122.44289</td>\n",
       "      <td>No</td>\n",
       "      <td>No</td>\n",
       "    </tr>\n",
       "    <tr>\n",
       "      <th>...</th>\n",
       "      <td>...</td>\n",
       "      <td>...</td>\n",
       "      <td>...</td>\n",
       "      <td>...</td>\n",
       "      <td>...</td>\n",
       "      <td>...</td>\n",
       "      <td>...</td>\n",
       "      <td>...</td>\n",
       "      <td>...</td>\n",
       "      <td>...</td>\n",
       "      <td>...</td>\n",
       "      <td>...</td>\n",
       "      <td>...</td>\n",
       "      <td>...</td>\n",
       "      <td>...</td>\n",
       "      <td>...</td>\n",
       "    </tr>\n",
       "    <tr>\n",
       "      <th>3325</th>\n",
       "      <td>106384202</td>\n",
       "      <td>California Pacific Medical Center  Mission Be...</td>\n",
       "      <td>San Francisco</td>\n",
       "      <td>Sutter Health</td>\n",
       "      <td>100-149</td>\n",
       "      <td>Nonprofit</td>\n",
       "      <td>Urban</td>\n",
       "      <td>Non-Teaching</td>\n",
       "      <td>Homeless</td>\n",
       "      <td>16302</td>\n",
       "      <td>16</td>\n",
       "      <td>1988</td>\n",
       "      <td>37.74804</td>\n",
       "      <td>-122.42094</td>\n",
       "      <td>No</td>\n",
       "      <td>No</td>\n",
       "    </tr>\n",
       "    <tr>\n",
       "      <th>3326</th>\n",
       "      <td>106384202</td>\n",
       "      <td>California Pacific Medical Center  Mission Be...</td>\n",
       "      <td>San Francisco</td>\n",
       "      <td>Sutter Health</td>\n",
       "      <td>100-149</td>\n",
       "      <td>Nonprofit</td>\n",
       "      <td>Urban</td>\n",
       "      <td>Non-Teaching</td>\n",
       "      <td>Stroke</td>\n",
       "      <td>16302</td>\n",
       "      <td>16</td>\n",
       "      <td>5</td>\n",
       "      <td>37.74804</td>\n",
       "      <td>-122.42094</td>\n",
       "      <td>No</td>\n",
       "      <td>No</td>\n",
       "    </tr>\n",
       "    <tr>\n",
       "      <th>3327</th>\n",
       "      <td>106384202</td>\n",
       "      <td>California Pacific Medical Center  Mission Be...</td>\n",
       "      <td>San Francisco</td>\n",
       "      <td>Sutter Health</td>\n",
       "      <td>100-149</td>\n",
       "      <td>Nonprofit</td>\n",
       "      <td>Urban</td>\n",
       "      <td>Non-Teaching</td>\n",
       "      <td>COVID-19 History</td>\n",
       "      <td>16302</td>\n",
       "      <td>16</td>\n",
       "      <td>46</td>\n",
       "      <td>37.74804</td>\n",
       "      <td>-122.42094</td>\n",
       "      <td>No</td>\n",
       "      <td>No</td>\n",
       "    </tr>\n",
       "    <tr>\n",
       "      <th>3328</th>\n",
       "      <td>106384202</td>\n",
       "      <td>California Pacific Medical Center  Mission Be...</td>\n",
       "      <td>San Francisco</td>\n",
       "      <td>Sutter Health</td>\n",
       "      <td>100-149</td>\n",
       "      <td>Nonprofit</td>\n",
       "      <td>Urban</td>\n",
       "      <td>Non-Teaching</td>\n",
       "      <td>Active COVID-19</td>\n",
       "      <td>16302</td>\n",
       "      <td>16</td>\n",
       "      <td>498</td>\n",
       "      <td>37.74804</td>\n",
       "      <td>-122.42094</td>\n",
       "      <td>No</td>\n",
       "      <td>No</td>\n",
       "    </tr>\n",
       "    <tr>\n",
       "      <th>3329</th>\n",
       "      <td>106384202</td>\n",
       "      <td>California Pacific Medical Center  Mission Be...</td>\n",
       "      <td>San Francisco</td>\n",
       "      <td>Sutter Health</td>\n",
       "      <td>100-149</td>\n",
       "      <td>Nonprofit</td>\n",
       "      <td>Urban</td>\n",
       "      <td>Non-Teaching</td>\n",
       "      <td>All ED Visits</td>\n",
       "      <td>16302</td>\n",
       "      <td>16</td>\n",
       "      <td>16302</td>\n",
       "      <td>37.74804</td>\n",
       "      <td>-122.42094</td>\n",
       "      <td>No</td>\n",
       "      <td>No</td>\n",
       "    </tr>\n",
       "  </tbody>\n",
       "</table>\n",
       "<p>153 rows × 16 columns</p>\n",
       "</div>"
      ],
      "text/plain": [
       "       oshpd_id                                      FacilityName2  \\\n",
       "3177  106380857         Kaiser Foundation Hospital  San Francisco   \n",
       "3178  106380857         Kaiser Foundation Hospital  San Francisco   \n",
       "3179  106380857         Kaiser Foundation Hospital  San Francisco   \n",
       "3180  106380857         Kaiser Foundation Hospital  San Francisco   \n",
       "3181  106380857         Kaiser Foundation Hospital  San Francisco   \n",
       "...         ...                                                ...   \n",
       "3325  106384202  California Pacific Medical Center  Mission Be...   \n",
       "3326  106384202  California Pacific Medical Center  Mission Be...   \n",
       "3327  106384202  California Pacific Medical Center  Mission Be...   \n",
       "3328  106384202  California Pacific Medical Center  Mission Be...   \n",
       "3329  106384202  California Pacific Medical Center  Mission Be...   \n",
       "\n",
       "         CountyName                       system LICENSED_BED_SIZE  \\\n",
       "3177  San Francisco  Kaiser Foundation Hospitals           200-299   \n",
       "3178  San Francisco  Kaiser Foundation Hospitals           200-299   \n",
       "3179  San Francisco  Kaiser Foundation Hospitals           200-299   \n",
       "3180  San Francisco  Kaiser Foundation Hospitals           200-299   \n",
       "3181  San Francisco  Kaiser Foundation Hospitals           200-299   \n",
       "...             ...                          ...               ...   \n",
       "3325  San Francisco                Sutter Health           100-149   \n",
       "3326  San Francisco                Sutter Health           100-149   \n",
       "3327  San Francisco                Sutter Health           100-149   \n",
       "3328  San Francisco                Sutter Health           100-149   \n",
       "3329  San Francisco                Sutter Health           100-149   \n",
       "\n",
       "     HospitalOwnership UrbanRuralDesi TEACHINGDesignation          Category  \\\n",
       "3177         Nonprofit          Urban            Teaching   Substance Abuse   \n",
       "3178         Nonprofit          Urban            Teaching     Mental Health   \n",
       "3179         Nonprofit          Urban            Teaching       Respiratory   \n",
       "3180         Nonprofit          Urban            Teaching         Pneumonia   \n",
       "3181         Nonprofit          Urban            Teaching           Cardiac   \n",
       "...                ...            ...                 ...               ...   \n",
       "3325         Nonprofit          Urban        Non-Teaching          Homeless   \n",
       "3326         Nonprofit          Urban        Non-Teaching            Stroke   \n",
       "3327         Nonprofit          Urban        Non-Teaching  COVID-19 History   \n",
       "3328         Nonprofit          Urban        Non-Teaching   Active COVID-19   \n",
       "3329         Nonprofit          Urban        Non-Teaching     All ED Visits   \n",
       "\n",
       "      Tot_ED_NmbVsts  EDStations  EDDXCount  LATITUDE  LONGITUDE  \\\n",
       "3177           29199          26       3465  37.78274 -122.44289   \n",
       "3178           29199          26       5302  37.78274 -122.44289   \n",
       "3179           29199          26        118  37.78274 -122.44289   \n",
       "3180           29199          26        259  37.78274 -122.44289   \n",
       "3181           29199          26         17  37.78274 -122.44289   \n",
       "...              ...         ...        ...       ...        ...   \n",
       "3325           16302          16       1988  37.74804 -122.42094   \n",
       "3326           16302          16          5  37.74804 -122.42094   \n",
       "3327           16302          16         46  37.74804 -122.42094   \n",
       "3328           16302          16        498  37.74804 -122.42094   \n",
       "3329           16302          16      16302  37.74804 -122.42094   \n",
       "\n",
       "     PrimaryCareShortageArea MentalHealthShortageArea  \n",
       "3177                      No                       No  \n",
       "3178                      No                       No  \n",
       "3179                      No                       No  \n",
       "3180                      No                       No  \n",
       "3181                      No                       No  \n",
       "...                      ...                      ...  \n",
       "3325                      No                       No  \n",
       "3326                      No                       No  \n",
       "3327                      No                       No  \n",
       "3328                      No                       No  \n",
       "3329                      No                       No  \n",
       "\n",
       "[153 rows x 16 columns]"
      ]
     },
     "execution_count": 14,
     "metadata": {},
     "output_type": "execute_result"
    }
   ],
   "source": [
    "df_sf = df[df['CountyName'] == 'San Francisco']\n",
    "df_sf"
   ]
  },
  {
   "cell_type": "code",
   "execution_count": 15,
   "metadata": {},
   "outputs": [
    {
     "data": {
      "text/html": [
       "<div>\n",
       "<style scoped>\n",
       "    .dataframe tbody tr th:only-of-type {\n",
       "        vertical-align: middle;\n",
       "    }\n",
       "\n",
       "    .dataframe tbody tr th {\n",
       "        vertical-align: top;\n",
       "    }\n",
       "\n",
       "    .dataframe thead th {\n",
       "        text-align: right;\n",
       "    }\n",
       "</style>\n",
       "<table border=\"1\" class=\"dataframe\">\n",
       "  <thead>\n",
       "    <tr style=\"text-align: right;\">\n",
       "      <th></th>\n",
       "      <th>FacilityName2</th>\n",
       "      <th>LATITUDE</th>\n",
       "      <th>LONGITUDE</th>\n",
       "      <th>Tot_ED_NmbVsts</th>\n",
       "      <th>EDStations</th>\n",
       "      <th>EDDXCount</th>\n",
       "      <th>Number of ED Vists Per ED Station</th>\n",
       "    </tr>\n",
       "  </thead>\n",
       "  <tbody>\n",
       "    <tr>\n",
       "      <th>0</th>\n",
       "      <td>California Pacific Medical Center  Davies Cam...</td>\n",
       "      <td>37.769100</td>\n",
       "      <td>-122.434650</td>\n",
       "      <td>9591</td>\n",
       "      <td>12</td>\n",
       "      <td>14888</td>\n",
       "      <td>799.250000</td>\n",
       "    </tr>\n",
       "    <tr>\n",
       "      <th>1</th>\n",
       "      <td>California Pacific Medical Center  Mission Be...</td>\n",
       "      <td>37.748040</td>\n",
       "      <td>-122.420940</td>\n",
       "      <td>16302</td>\n",
       "      <td>16</td>\n",
       "      <td>26148</td>\n",
       "      <td>1018.875000</td>\n",
       "    </tr>\n",
       "    <tr>\n",
       "      <th>2</th>\n",
       "      <td>California Pacific Medical Center  Van Ness C...</td>\n",
       "      <td>37.785840</td>\n",
       "      <td>-122.421750</td>\n",
       "      <td>22340</td>\n",
       "      <td>35</td>\n",
       "      <td>33924</td>\n",
       "      <td>638.285714</td>\n",
       "    </tr>\n",
       "    <tr>\n",
       "      <th>3</th>\n",
       "      <td>Chinese Hospital</td>\n",
       "      <td>37.795650</td>\n",
       "      <td>-122.409260</td>\n",
       "      <td>4954</td>\n",
       "      <td>7</td>\n",
       "      <td>7362</td>\n",
       "      <td>707.714286</td>\n",
       "    </tr>\n",
       "    <tr>\n",
       "      <th>4</th>\n",
       "      <td>Kaiser Foundation Hospital  San Francisco</td>\n",
       "      <td>37.782740</td>\n",
       "      <td>-122.442890</td>\n",
       "      <td>29199</td>\n",
       "      <td>26</td>\n",
       "      <td>52630</td>\n",
       "      <td>1123.038462</td>\n",
       "    </tr>\n",
       "    <tr>\n",
       "      <th>5</th>\n",
       "      <td>Priscilla Chan &amp; Mark Zuckerberg San Francisco...</td>\n",
       "      <td>37.756570</td>\n",
       "      <td>-122.406370</td>\n",
       "      <td>42809</td>\n",
       "      <td>59</td>\n",
       "      <td>97530</td>\n",
       "      <td>725.576271</td>\n",
       "    </tr>\n",
       "    <tr>\n",
       "      <th>6</th>\n",
       "      <td>Saint Francis Memorial Hospital</td>\n",
       "      <td>37.789170</td>\n",
       "      <td>-122.416950</td>\n",
       "      <td>18963</td>\n",
       "      <td>19</td>\n",
       "      <td>43076</td>\n",
       "      <td>998.052632</td>\n",
       "    </tr>\n",
       "    <tr>\n",
       "      <th>7</th>\n",
       "      <td>St. Mary's Medical Center</td>\n",
       "      <td>37.774080</td>\n",
       "      <td>-122.454410</td>\n",
       "      <td>10305</td>\n",
       "      <td>12</td>\n",
       "      <td>22989</td>\n",
       "      <td>858.750000</td>\n",
       "    </tr>\n",
       "    <tr>\n",
       "      <th>8</th>\n",
       "      <td>UC San Francisco Medical Center</td>\n",
       "      <td>37.763515</td>\n",
       "      <td>-122.457656</td>\n",
       "      <td>33076</td>\n",
       "      <td>52</td>\n",
       "      <td>40762</td>\n",
       "      <td>636.076923</td>\n",
       "    </tr>\n",
       "  </tbody>\n",
       "</table>\n",
       "</div>"
      ],
      "text/plain": [
       "                                       FacilityName2   LATITUDE   LONGITUDE  \\\n",
       "0  California Pacific Medical Center  Davies Cam...  37.769100 -122.434650   \n",
       "1  California Pacific Medical Center  Mission Be...  37.748040 -122.420940   \n",
       "2  California Pacific Medical Center  Van Ness C...  37.785840 -122.421750   \n",
       "3                                   Chinese Hospital  37.795650 -122.409260   \n",
       "4         Kaiser Foundation Hospital  San Francisco  37.782740 -122.442890   \n",
       "5  Priscilla Chan & Mark Zuckerberg San Francisco...  37.756570 -122.406370   \n",
       "6                    Saint Francis Memorial Hospital  37.789170 -122.416950   \n",
       "7                          St. Mary's Medical Center  37.774080 -122.454410   \n",
       "8                    UC San Francisco Medical Center  37.763515 -122.457656   \n",
       "\n",
       "   Tot_ED_NmbVsts  EDStations  EDDXCount  Number of ED Vists Per ED Station  \n",
       "0            9591          12      14888                         799.250000  \n",
       "1           16302          16      26148                        1018.875000  \n",
       "2           22340          35      33924                         638.285714  \n",
       "3            4954           7       7362                         707.714286  \n",
       "4           29199          26      52630                        1123.038462  \n",
       "5           42809          59      97530                         725.576271  \n",
       "6           18963          19      43076                         998.052632  \n",
       "7           10305          12      22989                         858.750000  \n",
       "8           33076          52      40762                         636.076923  "
      ]
     },
     "execution_count": 15,
     "metadata": {},
     "output_type": "execute_result"
    }
   ],
   "source": [
    "df_sf_edcount = df_sf.groupby(['FacilityName2', 'LATITUDE', 'LONGITUDE', 'Tot_ED_NmbVsts', 'EDStations']).agg({'EDDXCount': 'sum'}).reset_index()\n",
    "df_sf_edcount['Number of ED Vists Per ED Station'] = df_sf_edcount['Tot_ED_NmbVsts'] / df_sf_edcount['EDStations']\n",
    "df_sf_edcount"
   ]
  },
  {
   "cell_type": "code",
   "execution_count": 16,
   "metadata": {},
   "outputs": [
    {
     "data": {
      "text/html": [
       "<div>\n",
       "<style scoped>\n",
       "    .dataframe tbody tr th:only-of-type {\n",
       "        vertical-align: middle;\n",
       "    }\n",
       "\n",
       "    .dataframe tbody tr th {\n",
       "        vertical-align: top;\n",
       "    }\n",
       "\n",
       "    .dataframe thead th {\n",
       "        text-align: right;\n",
       "    }\n",
       "</style>\n",
       "<table border=\"1\" class=\"dataframe\">\n",
       "  <thead>\n",
       "    <tr style=\"text-align: right;\">\n",
       "      <th></th>\n",
       "      <th>FacilityName2</th>\n",
       "      <th>LATITUDE</th>\n",
       "      <th>LONGITUDE</th>\n",
       "      <th>Tot_ED_NmbVsts</th>\n",
       "      <th>EDStations</th>\n",
       "      <th>EDDXCount</th>\n",
       "    </tr>\n",
       "  </thead>\n",
       "  <tbody>\n",
       "    <tr>\n",
       "      <th>0</th>\n",
       "      <td>Adventist Health Clearlake</td>\n",
       "      <td>38.936190</td>\n",
       "      <td>-122.620200</td>\n",
       "      <td>17699</td>\n",
       "      <td>8</td>\n",
       "      <td>37175</td>\n",
       "    </tr>\n",
       "    <tr>\n",
       "      <th>1</th>\n",
       "      <td>Adventist Health Hanford</td>\n",
       "      <td>36.325625</td>\n",
       "      <td>-119.668391</td>\n",
       "      <td>80442</td>\n",
       "      <td>34</td>\n",
       "      <td>123847</td>\n",
       "    </tr>\n",
       "    <tr>\n",
       "      <th>2</th>\n",
       "      <td>Adventist Health Howard Memorial</td>\n",
       "      <td>39.399270</td>\n",
       "      <td>-123.354860</td>\n",
       "      <td>12451</td>\n",
       "      <td>9</td>\n",
       "      <td>21957</td>\n",
       "    </tr>\n",
       "    <tr>\n",
       "      <th>3</th>\n",
       "      <td>Adventist Health Mendocino Coast</td>\n",
       "      <td>39.432600</td>\n",
       "      <td>-123.800680</td>\n",
       "      <td>8568</td>\n",
       "      <td>6</td>\n",
       "      <td>13920</td>\n",
       "    </tr>\n",
       "    <tr>\n",
       "      <th>4</th>\n",
       "      <td>Adventist Health Reedley</td>\n",
       "      <td>36.607890</td>\n",
       "      <td>-119.451450</td>\n",
       "      <td>32277</td>\n",
       "      <td>10</td>\n",
       "      <td>47747</td>\n",
       "    </tr>\n",
       "    <tr>\n",
       "      <th>...</th>\n",
       "      <td>...</td>\n",
       "      <td>...</td>\n",
       "      <td>...</td>\n",
       "      <td>...</td>\n",
       "      <td>...</td>\n",
       "      <td>...</td>\n",
       "    </tr>\n",
       "    <tr>\n",
       "      <th>74</th>\n",
       "      <td>Torrance Memorial Medical Center</td>\n",
       "      <td>33.811916</td>\n",
       "      <td>-118.343495</td>\n",
       "      <td>56910</td>\n",
       "      <td>29</td>\n",
       "      <td>97286</td>\n",
       "    </tr>\n",
       "    <tr>\n",
       "      <th>75</th>\n",
       "      <td>UC Irvine Medical Center</td>\n",
       "      <td>33.787988</td>\n",
       "      <td>-117.890134</td>\n",
       "      <td>37922</td>\n",
       "      <td>44</td>\n",
       "      <td>73741</td>\n",
       "    </tr>\n",
       "    <tr>\n",
       "      <th>76</th>\n",
       "      <td>Valley Children's Hospital</td>\n",
       "      <td>36.884390</td>\n",
       "      <td>-119.800420</td>\n",
       "      <td>73970</td>\n",
       "      <td>38</td>\n",
       "      <td>88540</td>\n",
       "    </tr>\n",
       "    <tr>\n",
       "      <th>77</th>\n",
       "      <td>Watsonville Community Hospital</td>\n",
       "      <td>36.928390</td>\n",
       "      <td>-121.791730</td>\n",
       "      <td>24835</td>\n",
       "      <td>16</td>\n",
       "      <td>42643</td>\n",
       "    </tr>\n",
       "    <tr>\n",
       "      <th>78</th>\n",
       "      <td>West Anaheim Medical Center</td>\n",
       "      <td>33.824820</td>\n",
       "      <td>-117.994920</td>\n",
       "      <td>22101</td>\n",
       "      <td>24</td>\n",
       "      <td>46221</td>\n",
       "    </tr>\n",
       "  </tbody>\n",
       "</table>\n",
       "<p>79 rows × 6 columns</p>\n",
       "</div>"
      ],
      "text/plain": [
       "                       FacilityName2   LATITUDE   LONGITUDE  Tot_ED_NmbVsts  \\\n",
       "0         Adventist Health Clearlake  38.936190 -122.620200           17699   \n",
       "1           Adventist Health Hanford  36.325625 -119.668391           80442   \n",
       "2   Adventist Health Howard Memorial  39.399270 -123.354860           12451   \n",
       "3   Adventist Health Mendocino Coast  39.432600 -123.800680            8568   \n",
       "4           Adventist Health Reedley  36.607890 -119.451450           32277   \n",
       "..                               ...        ...         ...             ...   \n",
       "74  Torrance Memorial Medical Center  33.811916 -118.343495           56910   \n",
       "75          UC Irvine Medical Center  33.787988 -117.890134           37922   \n",
       "76        Valley Children's Hospital  36.884390 -119.800420           73970   \n",
       "77    Watsonville Community Hospital  36.928390 -121.791730           24835   \n",
       "78       West Anaheim Medical Center  33.824820 -117.994920           22101   \n",
       "\n",
       "    EDStations  EDDXCount  \n",
       "0            8      37175  \n",
       "1           34     123847  \n",
       "2            9      21957  \n",
       "3            6      13920  \n",
       "4           10      47747  \n",
       "..         ...        ...  \n",
       "74          29      97286  \n",
       "75          44      73741  \n",
       "76          38      88540  \n",
       "77          16      42643  \n",
       "78          24      46221  \n",
       "\n",
       "[79 rows x 6 columns]"
      ]
     },
     "execution_count": 16,
     "metadata": {},
     "output_type": "execute_result"
    }
   ],
   "source": [
    "df_pcshort_edcount = df_pcshort.groupby(['FacilityName2', 'LATITUDE', 'LONGITUDE', 'Tot_ED_NmbVsts', 'EDStations']).agg({'EDDXCount': 'sum'}).reset_index()\n",
    "df_pcshort_edcount"
   ]
  },
  {
   "cell_type": "code",
   "execution_count": null,
   "metadata": {},
   "outputs": [],
   "source": []
  },
  {
   "cell_type": "code",
   "execution_count": 17,
   "metadata": {},
   "outputs": [
    {
     "data": {
      "text/plain": [
       "Text(0.5, 1.0, 'Ratio of ED Visits to ED Station for San Francisco Facilities')"
      ]
     },
     "execution_count": 17,
     "metadata": {},
     "output_type": "execute_result"
    },
    {
     "name": "stderr",
     "output_type": "stream",
     "text": [
      "/Users/allison/Library/Python/3.11/lib/python/site-packages/IPython/core/events.py:89: UserWarning: Glyph 150 (\\x96) missing from current font.\n",
      "  func(*args, **kwargs)\n",
      "/Users/allison/Library/Python/3.11/lib/python/site-packages/IPython/core/pylabtools.py:152: UserWarning: Glyph 150 (\\x96) missing from current font.\n",
      "  fig.canvas.print_figure(bytes_io, **kw)\n"
     ]
    },
    {
     "data": {
      "image/png": "[encoded data removed]",
      "text/plain": [
       "<Figure size 640x480 with 1 Axes>"
      ]
     },
     "metadata": {},
     "output_type": "display_data"
    }
   ],
   "source": [
    "ax = sns.barplot(df_sf_edcount, y=\"FacilityName2\", x=\"Number of ED Vists Per ED Station\",\n",
    "            order=df_sf_edcount.sort_values(\"Number of ED Vists Per ED Station\").FacilityName2)\n",
    "ax.bar_label(ax.containers[0], fontsize=10);\n",
    "ax.set_title(\"Ratio of ED Visits to ED Station for San Francisco Facilities\")"
   ]
  },
  {
   "cell_type": "code",
   "execution_count": 18,
   "metadata": {},
   "outputs": [
    {
     "data": {
      "application/vnd.plotly.v1+json": {
       "config": {
        "plotlyServerURL": "https://plot.ly"
       },
       "data": [
        {
         "customdata": [
          [
           "California Pacific Medical Center  Davies Campus Hospital",
           799.25
          ],
          [
           "California Pacific Medical Center  Mission Bernal Campus",
           1018.875
          ],
          [
           "California Pacific Medical Center  Van Ness Campus",
           638.2857142857143
          ],
          [
           "Chinese Hospital",
           707.7142857142857
          ],
          [
           "Kaiser Foundation Hospital  San Francisco",
           1123.0384615384614
          ],
          [
           "Priscilla Chan & Mark Zuckerberg San Francisco General Hospital & Trauma Center",
           725.5762711864406
          ],
          [
           "Saint Francis Memorial Hospital",
           998.0526315789474
          ],
          [
           "St. Mary's Medical Center",
           858.75
          ],
          [
           "UC San Francisco Medical Center",
           636.0769230769231
          ]
         ],
         "hovertemplate": "<b>%{hovertext}</b><br><br>Number of ED Vists Per ED Station=%{marker.color}<br>LATITUDE=%{lat}<br>LONGITUDE=%{lon}<br>FacilityName2=%{customdata[0]}<extra></extra>",
         "hovertext": [
          799.25,
          1018.875,
          638.2857142857143,
          707.7142857142857,
          1123.0384615384614,
          725.5762711864406,
          998.0526315789474,
          858.75,
          636.0769230769231
         ],
         "lat": [
          37.7691,
          37.74804,
          37.78584,
          37.79565,
          37.78274,
          37.75657,
          37.78917,
          37.77408,
          37.7635148
         ],
         "legendgroup": "",
         "lon": [
          -122.43465,
          -122.42094,
          -122.42175,
          -122.40926,
          -122.44289,
          -122.40637,
          -122.41695,
          -122.45441,
          -122.4576564
         ],
         "marker": {
          "color": [
           799.25,
           1018.875,
           638.2857142857143,
           707.7142857142857,
           1123.0384615384614,
           725.5762711864406,
           998.0526315789474,
           858.75,
           636.0769230769231
          ],
          "coloraxis": "coloraxis",
          "size": [
           799.25,
           1018.875,
           638.2857142857143,
           707.7142857142857,
           1123.0384615384614,
           725.5762711864406,
           998.0526315789474,
           858.75,
           636.0769230769231
          ],
          "sizemode": "area",
          "sizeref": 2.807596153846154
         },
         "mode": "markers",
         "name": "",
         "showlegend": false,
         "subplot": "mapbox",
         "type": "scattermapbox"
        }
       ],
       "layout": {
        "coloraxis": {
         "colorbar": {
          "title": {
           "text": "Number of ED Vists Per ED Station"
          }
         },
         "colorscale": [
          [
           0,
           "#0d0887"
          ],
          [
           0.1111111111111111,
           "#46039f"
          ],
          [
           0.2222222222222222,
           "#7201a8"
          ],
          [
           0.3333333333333333,
           "#9c179e"
          ],
          [
           0.4444444444444444,
           "#bd3786"
          ],
          [
           0.5555555555555556,
           "#d8576b"
          ],
          [
           0.6666666666666666,
           "#ed7953"
          ],
          [
           0.7777777777777778,
           "#fb9f3a"
          ],
          [
           0.8888888888888888,
           "#fdca26"
          ],
          [
           1,
           "#f0f921"
          ]
         ]
        },
        "height": 700,
        "legend": {
         "itemsizing": "constant",
         "tracegroupgap": 0
        },
        "mapbox": {
         "center": {
          "lat": 37.77385608888889,
          "lon": -122.42943071111111
         },
         "domain": {
          "x": [
           0,
           1
          ],
          "y": [
           0,
           1
          ]
         },
         "style": "open-street-map",
         "zoom": 8
        },
        "template": {
         "data": {
          "bar": [
           {
            "error_x": {
             "color": "#2a3f5f"
            },
            "error_y": {
             "color": "#2a3f5f"
            },
            "marker": {
             "line": {
              "color": "#E5ECF6",
              "width": 0.5
             },
             "pattern": {
              "fillmode": "overlay",
              "size": 10,
              "solidity": 0.2
             }
            },
            "type": "bar"
           }
          ],
          "barpolar": [
           {
            "marker": {
             "line": {
              "color": "#E5ECF6",
              "width": 0.5
             },
             "pattern": {
              "fillmode": "overlay",
              "size": 10,
              "solidity": 0.2
             }
            },
            "type": "barpolar"
           }
          ],
          "carpet": [
           {
            "aaxis": {
             "endlinecolor": "#2a3f5f",
             "gridcolor": "white",
             "linecolor": "white",
             "minorgridcolor": "white",
             "startlinecolor": "#2a3f5f"
            },
            "baxis": {
             "endlinecolor": "#2a3f5f",
             "gridcolor": "white",
             "linecolor": "white",
             "minorgridcolor": "white",
             "startlinecolor": "#2a3f5f"
            },
            "type": "carpet"
           }
          ],
          "choropleth": [
           {
            "colorbar": {
             "outlinewidth": 0,
             "ticks": ""
            },
            "type": "choropleth"
           }
          ],
          "contour": [
           {
            "colorbar": {
             "outlinewidth": 0,
             "ticks": ""
            },
            "colorscale": [
             [
              0,
              "#0d0887"
             ],
             [
              0.1111111111111111,
              "#46039f"
             ],
             [
              0.2222222222222222,
              "#7201a8"
             ],
             [
              0.3333333333333333,
              "#9c179e"
             ],
             [
              0.4444444444444444,
              "#bd3786"
             ],
             [
              0.5555555555555556,
              "#d8576b"
             ],
             [
              0.6666666666666666,
              "#ed7953"
             ],
             [
              0.7777777777777778,
              "#fb9f3a"
             ],
             [
              0.8888888888888888,
              "#fdca26"
             ],
             [
              1,
              "#f0f921"
             ]
            ],
            "type": "contour"
           }
          ],
          "contourcarpet": [
           {
            "colorbar": {
             "outlinewidth": 0,
             "ticks": ""
            },
            "type": "contourcarpet"
           }
          ],
          "heatmap": [
           {
            "colorbar": {
             "outlinewidth": 0,
             "ticks": ""
            },
            "colorscale": [
             [
              0,
              "#0d0887"
             ],
             [
              0.1111111111111111,
              "#46039f"
             ],
             [
              0.2222222222222222,
              "#7201a8"
             ],
             [
              0.3333333333333333,
              "#9c179e"
             ],
             [
              0.4444444444444444,
              "#bd3786"
             ],
             [
              0.5555555555555556,
              "#d8576b"
             ],
             [
              0.6666666666666666,
              "#ed7953"
             ],
             [
              0.7777777777777778,
              "#fb9f3a"
             ],
             [
              0.8888888888888888,
              "#fdca26"
             ],
             [
              1,
              "#f0f921"
             ]
            ],
            "type": "heatmap"
           }
          ],
          "heatmapgl": [
           {
            "colorbar": {
             "outlinewidth": 0,
             "ticks": ""
            },
            "colorscale": [
             [
              0,
              "#0d0887"
             ],
             [
              0.1111111111111111,
              "#46039f"
             ],
             [
              0.2222222222222222,
              "#7201a8"
             ],
             [
              0.3333333333333333,
              "#9c179e"
             ],
             [
              0.4444444444444444,
              "#bd3786"
             ],
             [
              0.5555555555555556,
              "#d8576b"
             ],
             [
              0.6666666666666666,
              "#ed7953"
             ],
             [
              0.7777777777777778,
              "#fb9f3a"
             ],
             [
              0.8888888888888888,
              "#fdca26"
             ],
             [
              1,
              "#f0f921"
             ]
            ],
            "type": "heatmapgl"
           }
          ],
          "histogram": [
           {
            "marker": {
             "pattern": {
              "fillmode": "overlay",
              "size": 10,
              "solidity": 0.2
             }
            },
            "type": "histogram"
           }
          ],
          "histogram2d": [
           {
            "colorbar": {
             "outlinewidth": 0,
             "ticks": ""
            },
            "colorscale": [
             [
              0,
              "#0d0887"
             ],
             [
              0.1111111111111111,
              "#46039f"
             ],
             [
              0.2222222222222222,
              "#7201a8"
             ],
             [
              0.3333333333333333,
              "#9c179e"
             ],
             [
              0.4444444444444444,
              "#bd3786"
             ],
             [
              0.5555555555555556,
              "#d8576b"
             ],
             [
              0.6666666666666666,
              "#ed7953"
             ],
             [
              0.7777777777777778,
              "#fb9f3a"
             ],
             [
              0.8888888888888888,
              "#fdca26"
             ],
             [
              1,
              "#f0f921"
             ]
            ],
            "type": "histogram2d"
           }
          ],
          "histogram2dcontour": [
           {
            "colorbar": {
             "outlinewidth": 0,
             "ticks": ""
            },
            "colorscale": [
             [
              0,
              "#0d0887"
             ],
             [
              0.1111111111111111,
              "#46039f"
             ],
             [
              0.2222222222222222,
              "#7201a8"
             ],
             [
              0.3333333333333333,
              "#9c179e"
             ],
             [
              0.4444444444444444,
              "#bd3786"
             ],
             [
              0.5555555555555556,
              "#d8576b"
             ],
             [
              0.6666666666666666,
              "#ed7953"
             ],
             [
              0.7777777777777778,
              "#fb9f3a"
             ],
             [
              0.8888888888888888,
              "#fdca26"
             ],
             [
              1,
              "#f0f921"
             ]
            ],
            "type": "histogram2dcontour"
           }
          ],
          "mesh3d": [
           {
            "colorbar": {
             "outlinewidth": 0,
             "ticks": ""
            },
            "type": "mesh3d"
           }
          ],
          "parcoords": [
           {
            "line": {
             "colorbar": {
              "outlinewidth": 0,
              "ticks": ""
             }
            },
            "type": "parcoords"
           }
          ],
          "pie": [
           {
            "automargin": true,
            "type": "pie"
           }
          ],
          "scatter": [
           {
            "fillpattern": {
             "fillmode": "overlay",
             "size": 10,
             "solidity": 0.2
            },
            "type": "scatter"
           }
          ],
          "scatter3d": [
           {
            "line": {
             "colorbar": {
              "outlinewidth": 0,
              "ticks": ""
             }
            },
            "marker": {
             "colorbar": {
              "outlinewidth": 0,
              "ticks": ""
             }
            },
            "type": "scatter3d"
           }
          ],
          "scattercarpet": [
           {
            "marker": {
             "colorbar": {
              "outlinewidth": 0,
              "ticks": ""
             }
            },
            "type": "scattercarpet"
           }
          ],
          "scattergeo": [
           {
            "marker": {
             "colorbar": {
              "outlinewidth": 0,
              "ticks": ""
             }
            },
            "type": "scattergeo"
           }
          ],
          "scattergl": [
           {
            "marker": {
             "colorbar": {
              "outlinewidth": 0,
              "ticks": ""
             }
            },
            "type": "scattergl"
           }
          ],
          "scattermapbox": [
           {
            "marker": {
             "colorbar": {
              "outlinewidth": 0,
              "ticks": ""
             }
            },
            "type": "scattermapbox"
           }
          ],
          "scatterpolar": [
           {
            "marker": {
             "colorbar": {
              "outlinewidth": 0,
              "ticks": ""
             }
            },
            "type": "scatterpolar"
           }
          ],
          "scatterpolargl": [
           {
            "marker": {
             "colorbar": {
              "outlinewidth": 0,
              "ticks": ""
             }
            },
            "type": "scatterpolargl"
           }
          ],
          "scatterternary": [
           {
            "marker": {
             "colorbar": {
              "outlinewidth": 0,
              "ticks": ""
             }
            },
            "type": "scatterternary"
           }
          ],
          "surface": [
           {
            "colorbar": {
             "outlinewidth": 0,
             "ticks": ""
            },
            "colorscale": [
             [
              0,
              "#0d0887"
             ],
             [
              0.1111111111111111,
              "#46039f"
             ],
             [
              0.2222222222222222,
              "#7201a8"
             ],
             [
              0.3333333333333333,
              "#9c179e"
             ],
             [
              0.4444444444444444,
              "#bd3786"
             ],
             [
              0.5555555555555556,
              "#d8576b"
             ],
             [
              0.6666666666666666,
              "#ed7953"
             ],
             [
              0.7777777777777778,
              "#fb9f3a"
             ],
             [
              0.8888888888888888,
              "#fdca26"
             ],
             [
              1,
              "#f0f921"
             ]
            ],
            "type": "surface"
           }
          ],
          "table": [
           {
            "cells": {
             "fill": {
              "color": "#EBF0F8"
             },
             "line": {
              "color": "white"
             }
            },
            "header": {
             "fill": {
              "color": "#C8D4E3"
             },
             "line": {
              "color": "white"
             }
            },
            "type": "table"
           }
          ]
         },
         "layout": {
          "annotationdefaults": {
           "arrowcolor": "#2a3f5f",
           "arrowhead": 0,
           "arrowwidth": 1
          },
          "autotypenumbers": "strict",
          "coloraxis": {
           "colorbar": {
            "outlinewidth": 0,
            "ticks": ""
           }
          },
          "colorscale": {
           "diverging": [
            [
             0,
             "#8e0152"
            ],
            [
             0.1,
             "#c51b7d"
            ],
            [
             0.2,
             "#de77ae"
            ],
            [
             0.3,
             "#f1b6da"
            ],
            [
             0.4,
             "#fde0ef"
            ],
            [
             0.5,
             "#f7f7f7"
            ],
            [
             0.6,
             "#e6f5d0"
            ],
            [
             0.7,
             "#b8e186"
            ],
            [
             0.8,
             "#7fbc41"
            ],
            [
             0.9,
             "#4d9221"
            ],
            [
             1,
             "#276419"
            ]
           ],
           "sequential": [
            [
             0,
             "#0d0887"
            ],
            [
             0.1111111111111111,
             "#46039f"
            ],
            [
             0.2222222222222222,
             "#7201a8"
            ],
            [
             0.3333333333333333,
             "#9c179e"
            ],
            [
             0.4444444444444444,
             "#bd3786"
            ],
            [
             0.5555555555555556,
             "#d8576b"
            ],
            [
             0.6666666666666666,
             "#ed7953"
            ],
            [
             0.7777777777777778,
             "#fb9f3a"
            ],
            [
             0.8888888888888888,
             "#fdca26"
            ],
            [
             1,
             "#f0f921"
            ]
           ],
           "sequentialminus": [
            [
             0,
             "#0d0887"
            ],
            [
             0.1111111111111111,
             "#46039f"
            ],
            [
             0.2222222222222222,
             "#7201a8"
            ],
            [
             0.3333333333333333,
             "#9c179e"
            ],
            [
             0.4444444444444444,
             "#bd3786"
            ],
            [
             0.5555555555555556,
             "#d8576b"
            ],
            [
             0.6666666666666666,
             "#ed7953"
            ],
            [
             0.7777777777777778,
             "#fb9f3a"
            ],
            [
             0.8888888888888888,
             "#fdca26"
            ],
            [
             1,
             "#f0f921"
            ]
           ]
          },
          "colorway": [
           "#636efa",
           "#EF553B",
           "#00cc96",
           "#ab63fa",
           "#FFA15A",
           "#19d3f3",
           "#FF6692",
           "#B6E880",
           "#FF97FF",
           "#FECB52"
          ],
          "font": {
           "color": "#2a3f5f"
          },
          "geo": {
           "bgcolor": "white",
           "lakecolor": "white",
           "landcolor": "#E5ECF6",
           "showlakes": true,
           "showland": true,
           "subunitcolor": "white"
          },
          "hoverlabel": {
           "align": "left"
          },
          "hovermode": "closest",
          "mapbox": {
           "style": "light"
          },
          "paper_bgcolor": "white",
          "plot_bgcolor": "#E5ECF6",
          "polar": {
           "angularaxis": {
            "gridcolor": "white",
            "linecolor": "white",
            "ticks": ""
           },
           "bgcolor": "#E5ECF6",
           "radialaxis": {
            "gridcolor": "white",
            "linecolor": "white",
            "ticks": ""
           }
          },
          "scene": {
           "xaxis": {
            "backgroundcolor": "#E5ECF6",
            "gridcolor": "white",
            "gridwidth": 2,
            "linecolor": "white",
            "showbackground": true,
            "ticks": "",
            "zerolinecolor": "white"
           },
           "yaxis": {
            "backgroundcolor": "#E5ECF6",
            "gridcolor": "white",
            "gridwidth": 2,
            "linecolor": "white",
            "showbackground": true,
            "ticks": "",
            "zerolinecolor": "white"
           },
           "zaxis": {
            "backgroundcolor": "#E5ECF6",
            "gridcolor": "white",
            "gridwidth": 2,
            "linecolor": "white",
            "showbackground": true,
            "ticks": "",
            "zerolinecolor": "white"
           }
          },
          "shapedefaults": {
           "line": {
            "color": "#2a3f5f"
           }
          },
          "ternary": {
           "aaxis": {
            "gridcolor": "white",
            "linecolor": "white",
            "ticks": ""
           },
           "baxis": {
            "gridcolor": "white",
            "linecolor": "white",
            "ticks": ""
           },
           "bgcolor": "#E5ECF6",
           "caxis": {
            "gridcolor": "white",
            "linecolor": "white",
            "ticks": ""
           }
          },
          "title": {
           "x": 0.05
          },
          "xaxis": {
           "automargin": true,
           "gridcolor": "white",
           "linecolor": "white",
           "ticks": "",
           "title": {
            "standoff": 15
           },
           "zerolinecolor": "white",
           "zerolinewidth": 2
          },
          "yaxis": {
           "automargin": true,
           "gridcolor": "white",
           "linecolor": "white",
           "ticks": "",
           "title": {
            "standoff": 15
           },
           "zerolinecolor": "white",
           "zerolinewidth": 2
          }
         }
        },
        "title": {
         "text": "Number of Emergency Departments Visits Per Emergency Department <br> Station for Each Facility In San Francisco"
        },
        "width": 700
       }
      }
     },
     "metadata": {},
     "output_type": "display_data"
    }
   ],
   "source": [
    "fig = px.scatter_mapbox(df_sf_edcount, \n",
    "                        lat=\"LATITUDE\", \n",
    "                        lon=\"LONGITUDE\", \n",
    "                        color=\"Number of ED Vists Per ED Station\",\n",
    "                        size=\"Number of ED Vists Per ED Station\",\n",
    "                        hover_name=\"Number of ED Vists Per ED Station\", \n",
    "                        hover_data=[\"FacilityName2\", \"Number of ED Vists Per ED Station\"],\n",
    "                        zoom=8, \n",
    "                        height=700,\n",
    "                        width=700,\n",
    "                        title=\"Number of Emergency Departments Visits Per Emergency Department <br> Station for Each Facility In San Francisco\")\n",
    "fig.update_layout(mapbox_style=\"open-street-map\")\n",
    "fig.show()"
   ]
  },
  {
   "cell_type": "code",
   "execution_count": 19,
   "metadata": {},
   "outputs": [],
   "source": [
    "total_eddxcount_pc['Number of ED Vists Per ED Station'] = total_eddxcount_pc['Tot_ED_NmbVsts'] / total_eddxcount_pc['EDStations']"
   ]
  },
  {
   "cell_type": "code",
   "execution_count": 20,
   "metadata": {},
   "outputs": [
    {
     "data": {
      "text/html": [
       "<div>\n",
       "<style scoped>\n",
       "    .dataframe tbody tr th:only-of-type {\n",
       "        vertical-align: middle;\n",
       "    }\n",
       "\n",
       "    .dataframe tbody tr th {\n",
       "        vertical-align: top;\n",
       "    }\n",
       "\n",
       "    .dataframe thead th {\n",
       "        text-align: right;\n",
       "    }\n",
       "</style>\n",
       "<table border=\"1\" class=\"dataframe\">\n",
       "  <thead>\n",
       "    <tr style=\"text-align: right;\">\n",
       "      <th></th>\n",
       "      <th>FacilityName2</th>\n",
       "      <th>LATITUDE</th>\n",
       "      <th>LONGITUDE</th>\n",
       "      <th>Tot_ED_NmbVsts</th>\n",
       "      <th>EDStations</th>\n",
       "      <th>EDDXCount</th>\n",
       "      <th>Number of ED Vists Per ED Station</th>\n",
       "    </tr>\n",
       "  </thead>\n",
       "  <tbody>\n",
       "    <tr>\n",
       "      <th>0</th>\n",
       "      <td>Adventist Health Clearlake</td>\n",
       "      <td>38.936190</td>\n",
       "      <td>-122.620200</td>\n",
       "      <td>17699</td>\n",
       "      <td>8</td>\n",
       "      <td>37175</td>\n",
       "      <td>2212.375000</td>\n",
       "    </tr>\n",
       "    <tr>\n",
       "      <th>1</th>\n",
       "      <td>Adventist Health Hanford</td>\n",
       "      <td>36.325625</td>\n",
       "      <td>-119.668391</td>\n",
       "      <td>80442</td>\n",
       "      <td>34</td>\n",
       "      <td>123847</td>\n",
       "      <td>2365.941176</td>\n",
       "    </tr>\n",
       "    <tr>\n",
       "      <th>2</th>\n",
       "      <td>Adventist Health Howard Memorial</td>\n",
       "      <td>39.399270</td>\n",
       "      <td>-123.354860</td>\n",
       "      <td>12451</td>\n",
       "      <td>9</td>\n",
       "      <td>21957</td>\n",
       "      <td>1383.444444</td>\n",
       "    </tr>\n",
       "    <tr>\n",
       "      <th>3</th>\n",
       "      <td>Adventist Health Lodi Memorial</td>\n",
       "      <td>38.121460</td>\n",
       "      <td>-121.285900</td>\n",
       "      <td>42735</td>\n",
       "      <td>28</td>\n",
       "      <td>81320</td>\n",
       "      <td>1526.250000</td>\n",
       "    </tr>\n",
       "    <tr>\n",
       "      <th>4</th>\n",
       "      <td>Adventist Health Mendocino Coast</td>\n",
       "      <td>39.432600</td>\n",
       "      <td>-123.800680</td>\n",
       "      <td>8568</td>\n",
       "      <td>6</td>\n",
       "      <td>13920</td>\n",
       "      <td>1428.000000</td>\n",
       "    </tr>\n",
       "    <tr>\n",
       "      <th>...</th>\n",
       "      <td>...</td>\n",
       "      <td>...</td>\n",
       "      <td>...</td>\n",
       "      <td>...</td>\n",
       "      <td>...</td>\n",
       "      <td>...</td>\n",
       "      <td>...</td>\n",
       "    </tr>\n",
       "    <tr>\n",
       "      <th>246</th>\n",
       "      <td>Washington Hospital  Fremont</td>\n",
       "      <td>37.558470</td>\n",
       "      <td>-121.980060</td>\n",
       "      <td>37111</td>\n",
       "      <td>39</td>\n",
       "      <td>63113</td>\n",
       "      <td>951.564103</td>\n",
       "    </tr>\n",
       "    <tr>\n",
       "      <th>247</th>\n",
       "      <td>Watsonville Community Hospital</td>\n",
       "      <td>36.928390</td>\n",
       "      <td>-121.791730</td>\n",
       "      <td>24835</td>\n",
       "      <td>16</td>\n",
       "      <td>42643</td>\n",
       "      <td>1552.187500</td>\n",
       "    </tr>\n",
       "    <tr>\n",
       "      <th>248</th>\n",
       "      <td>West Anaheim Medical Center</td>\n",
       "      <td>33.824820</td>\n",
       "      <td>-117.994920</td>\n",
       "      <td>22101</td>\n",
       "      <td>24</td>\n",
       "      <td>46221</td>\n",
       "      <td>920.875000</td>\n",
       "    </tr>\n",
       "    <tr>\n",
       "      <th>249</th>\n",
       "      <td>West Hills Hospital and Medical Center</td>\n",
       "      <td>34.203370</td>\n",
       "      <td>-118.629390</td>\n",
       "      <td>39834</td>\n",
       "      <td>30</td>\n",
       "      <td>66750</td>\n",
       "      <td>1327.800000</td>\n",
       "    </tr>\n",
       "    <tr>\n",
       "      <th>250</th>\n",
       "      <td>Woodland Memorial Hospital</td>\n",
       "      <td>38.662840</td>\n",
       "      <td>-121.793300</td>\n",
       "      <td>22210</td>\n",
       "      <td>17</td>\n",
       "      <td>43359</td>\n",
       "      <td>1306.470588</td>\n",
       "    </tr>\n",
       "  </tbody>\n",
       "</table>\n",
       "<p>251 rows × 7 columns</p>\n",
       "</div>"
      ],
      "text/plain": [
       "                              FacilityName2   LATITUDE   LONGITUDE  \\\n",
       "0                Adventist Health Clearlake  38.936190 -122.620200   \n",
       "1                  Adventist Health Hanford  36.325625 -119.668391   \n",
       "2          Adventist Health Howard Memorial  39.399270 -123.354860   \n",
       "3            Adventist Health Lodi Memorial  38.121460 -121.285900   \n",
       "4          Adventist Health Mendocino Coast  39.432600 -123.800680   \n",
       "..                                      ...        ...         ...   \n",
       "246           Washington Hospital  Fremont  37.558470 -121.980060   \n",
       "247          Watsonville Community Hospital  36.928390 -121.791730   \n",
       "248             West Anaheim Medical Center  33.824820 -117.994920   \n",
       "249  West Hills Hospital and Medical Center  34.203370 -118.629390   \n",
       "250              Woodland Memorial Hospital  38.662840 -121.793300   \n",
       "\n",
       "     Tot_ED_NmbVsts  EDStations  EDDXCount  Number of ED Vists Per ED Station  \n",
       "0             17699           8      37175                        2212.375000  \n",
       "1             80442          34     123847                        2365.941176  \n",
       "2             12451           9      21957                        1383.444444  \n",
       "3             42735          28      81320                        1526.250000  \n",
       "4              8568           6      13920                        1428.000000  \n",
       "..              ...         ...        ...                                ...  \n",
       "246           37111          39      63113                         951.564103  \n",
       "247           24835          16      42643                        1552.187500  \n",
       "248           22101          24      46221                         920.875000  \n",
       "249           39834          30      66750                        1327.800000  \n",
       "250           22210          17      43359                        1306.470588  \n",
       "\n",
       "[251 rows x 7 columns]"
      ]
     },
     "execution_count": 20,
     "metadata": {},
     "output_type": "execute_result"
    }
   ],
   "source": [
    "total_eddxcount_pc"
   ]
  },
  {
   "cell_type": "code",
   "execution_count": 21,
   "metadata": {},
   "outputs": [
    {
     "data": {
      "application/vnd.plotly.v1+json": {
       "config": {
        "plotlyServerURL": "https://plot.ly"
       },
       "data": [
        {
         "customdata": [
          [
           "Adventist Health Clearlake",
           2212.375
          ],
          [
           "Adventist Health Hanford",
           2365.9411764705883
          ],
          [
           "Adventist Health Howard Memorial",
           1383.4444444444443
          ],
          [
           "Adventist Health Lodi Memorial",
           1526.25
          ],
          [
           "Adventist Health Mendocino Coast",
           1428
          ],
          [
           "Adventist Health Reedley",
           3227.7
          ],
          [
           "Adventist Health Simi Valley",
           1623.5
          ],
          [
           "Adventist Health Sonora  Greenley",
           1643.2777777777778
          ],
          [
           "Adventist Health St. Helena",
           695.75
          ],
          [
           "Adventist Health Tehachapi Valley",
           1384.3076923076924
          ],
          [
           "Adventist Health Tulare",
           1711.3333333333333
          ],
          [
           "Adventist Health Ukiah Valley",
           1344.7368421052631
          ],
          [
           "Adventist Health White Memorial",
           1487.3214285714287
          ],
          [
           "Adventist Health and Rideout",
           1257.75
          ],
          [
           "Alameda Hospital",
           932.0833333333334
          ],
          [
           "Alhambra Hospital Medical Center",
           1605.75
          ],
          [
           "Alta Bates Summit Medical Center",
           943.5666666666667
          ],
          [
           "Alta Bates Summit Medical Center  Alta Bates Campus",
           1229.909090909091
          ],
          [
           "Antelope Valley Hospital",
           3414.1785714285716
          ],
          [
           "Bakersfield Heart Hospital",
           1000.125
          ],
          [
           "Bakersfield Memorial Hospital",
           1944.3333333333333
          ],
          [
           "Banner Lassen Medical Center",
           1204.125
          ],
          [
           "Barstow Community Hospital",
           1437.5
          ],
          [
           "Barton Memorial Hospital",
           1253
          ],
          [
           "Bear Valley Community Hospital",
           1547.857142857143
          ],
          [
           "Beverly Hospital",
           776.34375
          ],
          [
           "California Hospital Medical Center  Los Angeles",
           1529.6571428571428
          ],
          [
           "California Pacific Medical Center  Davies Campus Hospital",
           799.25
          ],
          [
           "California Pacific Medical Center  Mission Bernal Campus",
           1018.875
          ],
          [
           "California Pacific Medical Center  Van Ness Campus",
           638.2857142857143
          ],
          [
           "Cedars  Sinai Marina Del Rey Hospital",
           1629.5555555555557
          ],
          [
           "Cedars  Sinai Medical Center",
           1084.4117647058824
          ],
          [
           "Centinela Hospital Medical Center",
           665
          ],
          [
           "Children's Hospital of Los Angeles",
           1723.5555555555557
          ],
          [
           "Children's Hospital of Orange County",
           2064.5714285714284
          ],
          [
           "Chinese Hospital",
           707.7142857142857
          ],
          [
           "Chino Valley Medical Center",
           1969.3333333333333
          ],
          [
           "Clovis Community Medical Center",
           789.2203389830509
          ],
          [
           "Coalinga Regional Medical Center",
           700.7777777777778
          ],
          [
           "Coast Plaza Hospital",
           1121.875
          ],
          [
           "Colorado River Medical Center",
           941.5
          ],
          [
           "Community Hospital of Huntington Park",
           1984.642857142857
          ],
          [
           "Community Hospital of San Bernardino",
           2773.5555555555557
          ],
          [
           "Community Hospital of the Monterey Peninsula",
           1228.4333333333334
          ],
          [
           "Community Regional Medical Center  Fresno",
           1018.931506849315
          ],
          [
           "Corona Regional Medical Center  Main",
           1323.6333333333334
          ],
          [
           "Dameron Hospital",
           1338.4761904761904
          ],
          [
           "Desert Valley Hospital",
           1464.5454545454545
          ],
          [
           "Doctors Hospital of Manteca",
           2121.909090909091
          ],
          [
           "Doctors Hospital of Riverside",
           970.3414634146342
          ],
          [
           "Doctors Medical Center",
           2223.5757575757575
          ],
          [
           "East Los Angeles Doctors Hospital",
           1164.875
          ],
          [
           "Eastern Plumas Hospital  Portola Campus",
           1102
          ],
          [
           "Eden Medical Center",
           1258.6818181818182
          ],
          [
           "El Camino Health",
           1175.175
          ],
          [
           "Emanate Health Foothill Presbyterian Hospital",
           1295.9545454545455
          ],
          [
           "Emanate Health Inter  Community Hospital",
           1247.857142857143
          ],
          [
           "Emanate Health Queen of the Valley Hospital",
           1892.7083333333333
          ],
          [
           "Emanuel Medical Center",
           1450.8125
          ],
          [
           "Encino Hospital Medical Center",
           706
          ],
          [
           "Enloe Medical Center Esplanade",
           1039.26
          ],
          [
           "Foothill Regional Medical Center",
           481.75
          ],
          [
           "French Hospital Medical Center",
           838.7272727272727
          ],
          [
           "Garden Grove Hospital and Medical Center",
           1507.4166666666667
          ],
          [
           "Garfield Medical Center",
           645.6666666666666
          ],
          [
           "George L. Mee Memorial Hospital",
           2065.3333333333335
          ],
          [
           "Glendale Memorial Hospital and Health Center",
           1414.1875
          ],
          [
           "Glenn Medical Center",
           1291.25
          ],
          [
           "Goleta Valley Cottage Hospital",
           810.2173913043479
          ],
          [
           "Good Samaritan Hospital  San Jose",
           1135.2571428571428
          ],
          [
           "Greater El Monte Community Hospital",
           1817.4444444444443
          ],
          [
           "Grossmont Hospital",
           811.7843137254902
          ],
          [
           "Hazel Hawkins Memorial Hospital",
           1106.388888888889
          ],
          [
           "Henry Mayo Newhall Hospital",
           1583.2666666666667
          ],
          [
           "Hi-Desert Medical Center",
           1328.375
          ],
          [
           "Highland Hospital",
           985.6769230769231
          ],
          [
           "Hoag Memorial Hospital Presbyterian",
           1079.3863636363637
          ],
          [
           "Hollywood Presbyterian Medical Center",
           1197.15
          ],
          [
           "Huntington Beach Hospital",
           957.1666666666666
          ],
          [
           "Jerold Phelps Community Hospital",
           1418.5
          ],
          [
           "John C Fremont Healthcare District",
           1402.5
          ],
          [
           "John F. Kennedy Memorial Hospital",
           3548.1666666666665
          ],
          [
           "John Muir Medical Center  Concord Campus",
           1429.625
          ],
          [
           "John Muir Medical Center  Walnut Creek Campus",
           909.4318181818181
          ],
          [
           "Kaiser Foundation Hospital & Rehab Center  Vallejo",
           1040.2156862745098
          ],
          [
           "Kaiser Foundation Hospital  Antioch",
           1610.8055555555557
          ],
          [
           "Kaiser Foundation Hospital  Baldwin Park",
           2079.733333333333
          ],
          [
           "Kaiser Foundation Hospital  Downey",
           1144.8125
          ],
          [
           "Kaiser Foundation Hospital  Fontana",
           1501.2173913043478
          ],
          [
           "Kaiser Foundation Hospital  Fremont",
           1812.611111111111
          ],
          [
           "Kaiser Foundation Hospital  Fresno",
           1971.7142857142858
          ],
          [
           "Kaiser Foundation Hospital  Los Angeles",
           918.2105263157895
          ],
          [
           "Kaiser Foundation Hospital  Manteca",
           1998.6170212765958
          ],
          [
           "Kaiser Foundation Hospital  Moreno Valley",
           1699.2307692307693
          ],
          [
           "Kaiser Foundation Hospital  Oakland/Richmond",
           1273.825
          ],
          [
           "Kaiser Foundation Hospital  Orange County  Anaheim",
           1475.236111111111
          ],
          [
           "Kaiser Foundation Hospital  Panorama City",
           1419.3170731707316
          ],
          [
           "Kaiser Foundation Hospital  Redwood City",
           1202.75
          ],
          [
           "Kaiser Foundation Hospital  Riverside",
           1206.8048780487804
          ],
          [
           "Kaiser Foundation Hospital  Roseville",
           1848.1311475409836
          ],
          [
           "Kaiser Foundation Hospital  Sacramento",
           1522.3050847457628
          ],
          [
           "Kaiser Foundation Hospital  San Diego  Zion",
           954.2368421052631
          ],
          [
           "Kaiser Foundation Hospital  San Francisco",
           1123.0384615384614
          ],
          [
           "Kaiser Foundation Hospital  San Jose",
           1634.888888888889
          ],
          [
           "Kaiser Foundation Hospital  San Leandro",
           1486.575
          ],
          [
           "Kaiser Foundation Hospital  San Rafael",
           1658.3333333333333
          ],
          [
           "Kaiser Foundation Hospital  Santa Clara",
           2090.1
          ],
          [
           "Kaiser Foundation Hospital  Santa Rosa",
           1680.6333333333334
          ],
          [
           "Kaiser Foundation Hospital  South Sacramento",
           1929.698113207547
          ],
          [
           "Kaiser Foundation Hospital  South San Francisco",
           1739.3684210526317
          ],
          [
           "Kaiser Foundation Hospital  Vacaville",
           1674.3333333333333
          ],
          [
           "Kaiser Foundation Hospital  Walnut Creek",
           1069.3076923076924
          ],
          [
           "Kaiser Foundation Hospital  West LA",
           1340.245283018868
          ],
          [
           "Kaiser Foundation Hospital  Woodland Hills",
           1000.921052631579
          ],
          [
           "Kaweah Health Medical Center",
           650.2235294117647
          ],
          [
           "Kern Medical Center",
           1497.7666666666667
          ],
          [
           "Kern Valley Healthcare District",
           758.375
          ],
          [
           "La Palma Intercommunity Hospital",
           827.9230769230769
          ],
          [
           "Lakewood Regional Medical Center",
           2332.4285714285716
          ],
          [
           "Lompoc Valley Medical Center",
           1750.8
          ],
          [
           "Los Alamitos Medical Center",
           1029.2173913043478
          ],
          [
           "Los Angeles County Olive View  UCLA Medical Center",
           934.2745098039215
          ],
          [
           "Los Angeles County/Harbor  UCLA Medical Center",
           901.7808219178082
          ],
          [
           "Los Robles Hospital & Medical Center",
           1546.1304347826087
          ],
          [
           "Madera Community Hospital",
           1765.25
          ],
          [
           "Marian Regional Medical Center",
           1162.3658536585365
          ],
          [
           "Marian Regional Medical Center  Arroyo Grande",
           1227.6666666666667
          ],
          [
           "MarinHealth Medical Center",
           871.4193548387096
          ],
          [
           "Mark Twain Medical Center",
           1241.25
          ],
          [
           "Marshall Medical Center",
           1001.1666666666666
          ],
          [
           "Mayers Memorial Hospital",
           647.3333333333334
          ],
          [
           "Memorial Hospital Los Banos",
           2279.9
          ],
          [
           "Memorial Hospital of Gardena",
           2721.6
          ],
          [
           "Memorial Medical Center  Modesto",
           1536.7954545454545
          ],
          [
           "MemorialCare Long Beach Medical Center",
           1121.765625
          ],
          [
           "MemorialCare Orange Coast Medical Center",
           1020.1923076923077
          ],
          [
           "MemorialCare Saddleback Medical Center",
           873.2903225806451
          ],
          [
           "Menifee Global Medical Center",
           1128.6666666666667
          ],
          [
           "Mercy General Hospital",
           1414.9
          ],
          [
           "Mercy Hospital  Bakersfield",
           1372.7333333333333
          ],
          [
           "Mercy Medical Center Mt. Shasta",
           822.3636363636364
          ],
          [
           "Mercy Medical Center  Merced",
           2006.7307692307693
          ],
          [
           "Mercy Medical Center  Redding",
           1499.8076923076924
          ],
          [
           "Methodist Hospital of Sacramento",
           1442.2068965517242
          ],
          [
           "Modoc Medical Center",
           1208.5
          ],
          [
           "Montclair Hospital Medical Center",
           1698
          ],
          [
           "Monterey Park Hospital",
           2317.8333333333335
          ],
          [
           "Mountains Community Hospital",
           1329.3333333333333
          ],
          [
           "NorthBay Medical Center",
           1169.888888888889
          ],
          [
           "Northern Inyo Hospital",
           980.5714285714286
          ],
          [
           "Novato Community Hospital",
           1439.3333333333333
          ],
          [
           "O'Connor Hospital",
           1573.4
          ],
          [
           "Oak Valley Hospital District",
           1410
          ],
          [
           "Ojai Valley Community Hospital",
           1191.5
          ],
          [
           "Orange County Global Medical Center",
           1017.625
          ],
          [
           "Orchard Hospital",
           1818.4
          ],
          [
           "Oroville Hospital",
           557.9285714285714
          ],
          [
           "PIH Health Good Samaritan Hospital",
           2664.4166666666665
          ],
          [
           "PIH Health Hospital  Downey",
           1151.5588235294117
          ],
          [
           "PIH Health Hospital  Whittier",
           839.0491803278688
          ],
          [
           "Pacifica Hospital of the Valley",
           976.2857142857143
          ],
          [
           "Palmdale Regional Medical Center",
           1454.0857142857142
          ],
          [
           "Palo Verde Hospital",
           1065.4285714285713
          ],
          [
           "Palomar Medical Center Poway",
           3214.625
          ],
          [
           "Paradise Valley Hospital",
           854.5
          ],
          [
           "Pioneers Memorial Healthcare District",
           2295.75
          ],
          [
           "Placentia Linda Hospital",
           1116.25
          ],
          [
           "Priscilla Chan & Mark Zuckerberg San Francisco General Hospital & Trauma Center",
           725.5762711864406
          ],
          [
           "Providence Cedars  Sinai Tarzana Medical Center",
           2119.6
          ],
          [
           "Providence Holy Cross Medical Center",
           2062.46875
          ],
          [
           "Providence Little Company of Mary Medical Center  San Pedro",
           1867.625
          ],
          [
           "Providence Mission Hospital",
           775.2558139534884
          ],
          [
           "Providence Mission Hospital  Laguna Beach",
           681.5
          ],
          [
           "Providence Queen of the Valley Medical Center",
           1200.888888888889
          ],
          [
           "Providence Redwood Memorial Hospital",
           1217.625
          ],
          [
           "Providence Saint John's Health Center",
           750.5185185185185
          ],
          [
           "Providence Saint Joseph Medical Center",
           1731.0416666666667
          ],
          [
           "Providence St. Joseph Hospital",
           1050.5535714285713
          ],
          [
           "Providence St. Jude Medical Center",
           1367.0277777777778
          ],
          [
           "Regional Medical Center of San Jose",
           1365.2857142857142
          ],
          [
           "Ridgecrest Regional Hospital",
           1269.9166666666667
          ],
          [
           "Riverside Community Hospital",
           1145.75
          ],
          [
           "Riverside University Health System  Medical Center",
           1564.25
          ],
          [
           "Ronald Reagan UCLA Medical Center",
           790.8536585365854
          ],
          [
           "Saint Agnes Medical Center",
           1177.375
          ],
          [
           "Saint Francis Memorial Hospital",
           998.0526315789474
          ],
          [
           "Salinas Valley Health Medical Center",
           2591.125
          ],
          [
           "San Antonio Regional Hospital",
           1325.423076923077
          ],
          [
           "San Dimas Community Hospital",
           1400.5
          ],
          [
           "San Gabriel Valley Medical Center",
           1387.3333333333333
          ],
          [
           "San Gorgonio Memorial Hospital",
           1227.0357142857142
          ],
          [
           "San Joaquin General Hospital",
           1425.423076923077
          ],
          [
           "San Mateo Medical Center",
           1931.8666666666666
          ],
          [
           "San Ramon Regional Medical Center",
           1227.4166666666667
          ],
          [
           "Santa Barbara Cottage Hospital",
           827.0487804878048
          ],
          [
           "Santa Monica  UCLA Medical Center and Orthopaedic Hospital",
           1446.857142857143
          ],
          [
           "Santa Ynez Valley Cottage Hospital",
           1058.125
          ],
          [
           "Scripps Memorial Hospital  Encinitas",
           1025.3684210526317
          ],
          [
           "Scripps Memorial Hospital  La Jolla",
           707.7021276595744
          ],
          [
           "Scripps Mercy Hospital",
           1190.25
          ],
          [
           "Seneca District Hospital",
           1157.5
          ],
          [
           "Sequoia Hospital",
           749.7647058823529
          ],
          [
           "Sharp Chula Vista Medical Center",
           1247.6666666666667
          ],
          [
           "Sharp Coronado Hospital and Healthcare Center",
           1264.1333333333334
          ],
          [
           "Shasta Regional Medical Center",
           887.2
          ],
          [
           "Sherman Oaks Hospital",
           1583.6666666666667
          ],
          [
           "Sierra Nevada Memorial Hospital",
           1211.111111111111
          ],
          [
           "Sonoma Valley Hospital",
           847.5555555555555
          ],
          [
           "Southern California Hospital at Culver City",
           692.7058823529412
          ],
          [
           "Southern Inyo Hospital",
           776
          ],
          [
           "Southwest Healthcare System  Murrieta",
           1537.7358490566037
          ],
          [
           "St. Bernardine Medical Center",
           2162.5416666666665
          ],
          [
           "St. Elizabeth Community Hospital",
           1893.4285714285713
          ],
          [
           "St. Francis Medical Center",
           950.6190476190476
          ],
          [
           "St. John's Hospital Camarillo",
           1401.9285714285713
          ],
          [
           "St. John's Regional Medical Center",
           1280.6129032258063
          ],
          [
           "St. Joseph's Medical Center of Stockton",
           1091.4516129032259
          ],
          [
           "St. Louise Regional Hospital",
           3375.875
          ],
          [
           "St. Mary Medical Center  Apple Valley",
           1211.3488372093022
          ],
          [
           "St. Mary Medical Center  Long Beach",
           1324.6153846153845
          ],
          [
           "St. Mary's Medical Center",
           858.75
          ],
          [
           "Sutter Amador Hospital",
           1582.9285714285713
          ],
          [
           "Sutter Auburn Faith Hospital",
           1741.857142857143
          ],
          [
           "Sutter Coast Hospital",
           1221.8181818181818
          ],
          [
           "Sutter Davis Hospital",
           2223.181818181818
          ],
          [
           "Sutter Delta Medical Center",
           1179.1666666666667
          ],
          [
           "Sutter Lakeside Hospital",
           1410.25
          ],
          [
           "Sutter Medical Center  Sacramento",
           1436.0555555555557
          ],
          [
           "Sutter Roseville Medical Center",
           948.8695652173913
          ],
          [
           "Sutter Solano Medical Center",
           1704.6923076923076
          ],
          [
           "Sutter Tracy Community Hospital",
           1788.7142857142858
          ],
          [
           "Tahoe Forest Hospital",
           786.6
          ],
          [
           "Temecula Valley Hospital",
           1592.857142857143
          ],
          [
           "Tenet Health Central Coast Sierra Vista Regional Medical Center",
           1662.2727272727273
          ],
          [
           "Tenet Health Central Coast Twin Cities Community Hospital",
           1111.1739130434783
          ],
          [
           "Torrance Memorial Medical Center",
           1962.4137931034484
          ],
          [
           "Tri-City Medical Center",
           952.8
          ],
          [
           "UC Davis Medical Center",
           863.3787878787879
          ],
          [
           "UC Irvine Medical Center",
           861.8636363636364
          ],
          [
           "UC San Francisco Benioff Children's Hospital Oakland",
           662.575
          ],
          [
           "UC San Francisco Medical Center",
           636.0769230769231
          ],
          [
           "USC Arcadia Hospital",
           1212.1923076923076
          ],
          [
           "USC Verdugo Hills Hospital",
           1546.6153846153845
          ],
          [
           "Valley Children's Hospital",
           1946.578947368421
          ],
          [
           "Valley Presbyterian Hospital",
           1185.2424242424242
          ],
          [
           "Ventura County Medical Center",
           868.1428571428571
          ],
          [
           "Washington Hospital  Fremont",
           951.5641025641025
          ],
          [
           "Watsonville Community Hospital",
           1552.1875
          ],
          [
           "West Anaheim Medical Center",
           920.875
          ],
          [
           "West Hills Hospital and Medical Center",
           1327.8
          ],
          [
           "Woodland Memorial Hospital",
           1306.4705882352941
          ]
         ],
         "hovertemplate": "<b>%{hovertext}</b><br><br>Number of ED Vists Per ED Station=%{marker.color}<br>LATITUDE=%{lat}<br>LONGITUDE=%{lon}<br>FacilityName2=%{customdata[0]}<extra></extra>",
         "hovertext": [
          2212.375,
          2365.9411764705883,
          1383.4444444444443,
          1526.25,
          1428,
          3227.7,
          1623.5,
          1643.2777777777778,
          695.75,
          1384.3076923076924,
          1711.3333333333333,
          1344.7368421052631,
          1487.3214285714287,
          1257.75,
          932.0833333333334,
          1605.75,
          943.5666666666667,
          1229.909090909091,
          3414.1785714285716,
          1000.125,
          1944.3333333333333,
          1204.125,
          1437.5,
          1253,
          1547.857142857143,
          776.34375,
          1529.6571428571428,
          799.25,
          1018.875,
          638.2857142857143,
          1629.5555555555557,
          1084.4117647058824,
          665,
          1723.5555555555557,
          2064.5714285714284,
          707.7142857142857,
          1969.3333333333333,
          789.2203389830509,
          700.7777777777778,
          1121.875,
          941.5,
          1984.642857142857,
          2773.5555555555557,
          1228.4333333333334,
          1018.931506849315,
          1323.6333333333334,
          1338.4761904761904,
          1464.5454545454545,
          2121.909090909091,
          970.3414634146342,
          2223.5757575757575,
          1164.875,
          1102,
          1258.6818181818182,
          1175.175,
          1295.9545454545455,
          1247.857142857143,
          1892.7083333333333,
          1450.8125,
          706,
          1039.26,
          481.75,
          838.7272727272727,
          1507.4166666666667,
          645.6666666666666,
          2065.3333333333335,
          1414.1875,
          1291.25,
          810.2173913043479,
          1135.2571428571428,
          1817.4444444444443,
          811.7843137254902,
          1106.388888888889,
          1583.2666666666667,
          1328.375,
          985.6769230769231,
          1079.3863636363637,
          1197.15,
          957.1666666666666,
          1418.5,
          1402.5,
          3548.1666666666665,
          1429.625,
          909.4318181818181,
          1040.2156862745098,
          1610.8055555555557,
          2079.733333333333,
          1144.8125,
          1501.2173913043478,
          1812.611111111111,
          1971.7142857142858,
          918.2105263157895,
          1998.6170212765958,
          1699.2307692307693,
          1273.825,
          1475.236111111111,
          1419.3170731707316,
          1202.75,
          1206.8048780487804,
          1848.1311475409836,
          1522.3050847457628,
          954.2368421052631,
          1123.0384615384614,
          1634.888888888889,
          1486.575,
          1658.3333333333333,
          2090.1,
          1680.6333333333334,
          1929.698113207547,
          1739.3684210526317,
          1674.3333333333333,
          1069.3076923076924,
          1340.245283018868,
          1000.921052631579,
          650.2235294117647,
          1497.7666666666667,
          758.375,
          827.9230769230769,
          2332.4285714285716,
          1750.8,
          1029.2173913043478,
          934.2745098039215,
          901.7808219178082,
          1546.1304347826087,
          1765.25,
          1162.3658536585365,
          1227.6666666666667,
          871.4193548387096,
          1241.25,
          1001.1666666666666,
          647.3333333333334,
          2279.9,
          2721.6,
          1536.7954545454545,
          1121.765625,
          1020.1923076923077,
          873.2903225806451,
          1128.6666666666667,
          1414.9,
          1372.7333333333333,
          822.3636363636364,
          2006.7307692307693,
          1499.8076923076924,
          1442.2068965517242,
          1208.5,
          1698,
          2317.8333333333335,
          1329.3333333333333,
          1169.888888888889,
          980.5714285714286,
          1439.3333333333333,
          1573.4,
          1410,
          1191.5,
          1017.625,
          1818.4,
          557.9285714285714,
          2664.4166666666665,
          1151.5588235294117,
          839.0491803278688,
          976.2857142857143,
          1454.0857142857142,
          1065.4285714285713,
          3214.625,
          854.5,
          2295.75,
          1116.25,
          725.5762711864406,
          2119.6,
          2062.46875,
          1867.625,
          775.2558139534884,
          681.5,
          1200.888888888889,
          1217.625,
          750.5185185185185,
          1731.0416666666667,
          1050.5535714285713,
          1367.0277777777778,
          1365.2857142857142,
          1269.9166666666667,
          1145.75,
          1564.25,
          790.8536585365854,
          1177.375,
          998.0526315789474,
          2591.125,
          1325.423076923077,
          1400.5,
          1387.3333333333333,
          1227.0357142857142,
          1425.423076923077,
          1931.8666666666666,
          1227.4166666666667,
          827.0487804878048,
          1446.857142857143,
          1058.125,
          1025.3684210526317,
          707.7021276595744,
          1190.25,
          1157.5,
          749.7647058823529,
          1247.6666666666667,
          1264.1333333333334,
          887.2,
          1583.6666666666667,
          1211.111111111111,
          847.5555555555555,
          692.7058823529412,
          776,
          1537.7358490566037,
          2162.5416666666665,
          1893.4285714285713,
          950.6190476190476,
          1401.9285714285713,
          1280.6129032258063,
          1091.4516129032259,
          3375.875,
          1211.3488372093022,
          1324.6153846153845,
          858.75,
          1582.9285714285713,
          1741.857142857143,
          1221.8181818181818,
          2223.181818181818,
          1179.1666666666667,
          1410.25,
          1436.0555555555557,
          948.8695652173913,
          1704.6923076923076,
          1788.7142857142858,
          786.6,
          1592.857142857143,
          1662.2727272727273,
          1111.1739130434783,
          1962.4137931034484,
          952.8,
          863.3787878787879,
          861.8636363636364,
          662.575,
          636.0769230769231,
          1212.1923076923076,
          1546.6153846153845,
          1946.578947368421,
          1185.2424242424242,
          868.1428571428571,
          951.5641025641025,
          1552.1875,
          920.875,
          1327.8,
          1306.4705882352941
         ],
         "lat": [
          38.93619,
          36.3256247,
          39.39927,
          38.12146,
          39.4326,
          36.60789,
          34.28973,
          37.97568,
          38.53937349,
          35.14302,
          36.2210166,
          39.15216,
          34.05085,
          39.138805,
          37.76266,
          34.08988,
          37.82106,
          37.85645,
          34.6878,
          35.38619,
          35.39051,
          40.42306,
          34.8935263,
          38.91228,
          34.24728,
          34.01614,
          34.03721,
          37.7691,
          37.74804,
          37.78584,
          33.98125,
          34.07681,
          33.94917,
          34.0978692,
          33.7807511,
          37.79565,
          34.02626,
          36.83745,
          36.15152,
          33.91255,
          34.8325,
          33.98929,
          34.13138,
          36.59827,
          36.74252,
          33.8733354,
          37.96125,
          34.47093,
          37.80111,
          33.92573,
          37.66439,
          34.02383,
          39.80517,
          37.6983769,
          37.36779,
          34.13384,
          34.08993,
          34.06242,
          37.51052,
          34.15686,
          39.74226,
          33.73119,
          35.27801,
          33.7745089,
          34.06826,
          36.2071,
          34.1284,
          39.52055,
          34.43336,
          37.25116,
          34.04827,
          32.77963,
          36.835,
          34.39545,
          34.13323,
          37.79925,
          33.62526,
          34.09557,
          33.70442,
          40.10195,
          37.50045,
          33.70677,
          37.98615,
          37.91304,
          38.12839,
          37.951975,
          34.06348,
          33.9171234,
          34.0725,
          37.55055,
          36.84246,
          34.09875,
          37.79736,
          33.89553,
          37.82402,
          33.85442,
          34.2198,
          37.48967,
          33.9063,
          38.74636,
          38.60197,
          32.79287,
          37.78274,
          37.23924,
          37.70611,
          38.0041,
          37.334597,
          38.47087,
          38.47144,
          37.65806,
          38.3894968,
          37.8923,
          34.03793,
          34.17198,
          36.32753,
          35.380833,
          35.63486,
          33.84755,
          33.859731,
          34.639252,
          33.80327,
          34.32418,
          33.83155,
          34.20762,
          36.94538,
          34.95198,
          35.11369,
          37.94651,
          38.19057,
          38.72556,
          41.02423,
          37.06273,
          33.89246,
          37.66868,
          33.80801,
          33.70162,
          33.60802,
          33.72146,
          38.56955,
          35.37323,
          41.31894,
          37.3402309,
          40.57204,
          38.46416,
          41.48747,
          34.07774,
          34.05308,
          34.26583,
          38.26097,
          37.36207,
          38.09827,
          37.32714,
          37.75782,
          34.44221,
          33.75361,
          39.36701,
          39.50485,
          34.05324,
          33.93515,
          33.9697943,
          34.24088,
          34.5843754,
          33.61315,
          32.99563,
          32.6863293,
          32.96003,
          33.887072,
          37.75657,
          34.17067,
          34.2791,
          33.737939,
          33.56279,
          33.4997391,
          38.32363,
          40.58267,
          34.029804,
          34.15486,
          33.7823,
          33.89349,
          37.36332,
          35.6404,
          33.97641,
          33.91187,
          34.068889,
          36.8370782,
          37.78917,
          36.65909,
          34.10056,
          34.099076,
          34.1024,
          33.9317494,
          37.88594,
          37.53017,
          37.77549,
          34.42948,
          34.027539,
          34.60243,
          33.0363,
          32.88506,
          32.75128,
          40.30547,
          37.48129,
          32.61909,
          32.69427,
          40.58562,
          34.15995,
          39.22808,
          38.28841,
          34.0231953,
          36.6084,
          33.55788,
          34.1341,
          40.1495,
          33.93085,
          34.24177,
          34.21687,
          37.97075,
          37.03731,
          34.54053,
          33.7802376,
          37.77408,
          38.34743,
          38.94432,
          41.77278,
          38.56289,
          37.98222,
          39.10232,
          38.57045,
          38.76515,
          38.13109,
          37.74366,
          39.324536,
          33.4795943,
          35.290986,
          35.5543,
          33.8119157,
          33.18394,
          38.55438,
          33.7879885,
          37.83722,
          37.7635148,
          34.13603,
          34.20557,
          36.88439,
          34.19396,
          34.27693,
          37.55847,
          36.92839,
          33.82482,
          34.20337,
          38.66284
         ],
         "legendgroup": "",
         "lon": [
          -122.6202,
          -119.6683912,
          -123.35486,
          -121.2859,
          -123.80068,
          -119.45145,
          -118.74394,
          -120.369,
          -122.473003,
          -118.44924,
          -119.3385341,
          -123.202741,
          -118.21691,
          -121.593602,
          -122.253991,
          -118.1449,
          -122.26257,
          -122.25743,
          -118.157981,
          -119.04314,
          -119.00658,
          -120.64609,
          -117.0168841,
          -119.99758,
          -116.88988,
          -118.10132,
          -118.26551,
          -122.43465,
          -122.42094,
          -122.42175,
          -118.43971,
          -118.38061,
          -118.34788,
          -118.2909547,
          -117.8654488,
          -122.40926,
          -117.687,
          -119.66072,
          -120.34035,
          -118.09915,
          -114.61818,
          -118.22466,
          -117.32245,
          -121.92488,
          -119.784071,
          -117.5668015,
          -121.30067,
          -117.29778,
          -121.19746,
          -117.43996,
          -120.99631,
          -118.18377,
          -120.462591,
          -122.0874055,
          -122.07801,
          -117.87244,
          -117.89264,
          -117.94528,
          -120.83966,
          -118.48662,
          -121.84918,
          -117.82903,
          -120.64977,
          -117.9130315,
          -118.12302,
          -121.1325,
          -118.25769,
          -122.20791,
          -119.80929,
          -121.9449,
          -118.04257,
          -117.00924,
          -121.38609,
          -118.55476,
          -116.27654,
          -122.23138,
          -117.92949,
          -118.29163,
          -117.98895,
          -123.79286,
          -119.97698,
          -116.23391,
          -122.03874,
          -122.040781,
          -122.24761,
          -121.776854,
          -117.986,
          -118.1290216,
          -117.43549,
          -121.97483,
          -119.7832,
          -118.295371,
          -121.24614,
          -117.18677,
          -122.25791,
          -117.84399,
          -118.43103,
          -122.22463,
          -117.47082,
          -121.25107,
          -121.39232,
          -117.09447,
          -122.44289,
          -121.80269,
          -122.16917,
          -122.55376,
          -121.995774,
          -122.73119,
          -121.42409,
          -122.43837,
          -121.9373177,
          -122.05828,
          -118.37568,
          -118.58829,
          -119.29345,
          -118.967222,
          -118.40509,
          -118.0373,
          -118.1492012,
          -120.4396497,
          -118.0674,
          -118.45255,
          -118.29353,
          -118.882411,
          -120.0447,
          -120.41338,
          -120.59147,
          -122.53715,
          -120.67095,
          -120.79092,
          -121.42442,
          -120.86147,
          -118.29493,
          -120.973381,
          -118.1852,
          -117.95524,
          -117.70825,
          -117.15691,
          -121.45271,
          -119.02715,
          -122.32309,
          -120.4651815,
          -122.39742,
          -121.41744,
          -120.55285,
          -117.69603,
          -118.13665,
          -117.16716,
          -122.05076,
          -118.40756,
          -122.55974,
          -121.93727,
          -120.86031,
          -119.26311,
          -117.83398,
          -121.68955,
          -121.5428,
          -118.26522,
          -118.13196,
          -118.049255,
          -118.39555,
          -118.1443461,
          -114.5956,
          -117.05784,
          -117.0830382,
          -115.55183,
          -117.8434267,
          -122.40637,
          -118.532001,
          -118.45951,
          -118.303893,
          -117.66768,
          -117.7422502,
          -122.296,
          -124.13549,
          -118.478668,
          -118.32655,
          -117.86516,
          -117.92851,
          -121.84837,
          -117.66996,
          -117.37997,
          -117.19525,
          -118.445,
          -119.7649963,
          -122.41695,
          -121.646291,
          -117.63828,
          -117.834328,
          -118.10503,
          -116.9459031,
          -121.28918,
          -122.29951,
          -121.95884,
          -119.72317,
          -118.486123,
          -120.12721,
          -117.28495,
          -117.22279,
          -117.1609,
          -121.23396,
          -122.25377,
          -117.02488,
          -117.16808,
          -122.387731,
          -118.4488,
          -121.047201,
          -122.46524,
          -118.3969429,
          -118.05816,
          -117.18488,
          -117.27865,
          -122.21887,
          -118.20415,
          -119.018,
          -119.15819,
          -121.2891,
          -121.57411,
          -117.26535,
          -118.1866412,
          -122.45441,
          -120.77272,
          -121.09943,
          -124.19514,
          -121.77164,
          -121.8054,
          -122.91003,
          -121.47028,
          -121.24922,
          -122.23852,
          -121.43482,
          -120.201516,
          -117.1048018,
          -120.666309,
          -120.71967,
          -118.3434945,
          -117.29027,
          -121.45738,
          -117.8901339,
          -122.26747,
          -122.4576564,
          -118.03879,
          -118.2152,
          -119.80042,
          -118.4632,
          -119.25384,
          -121.98006,
          -121.79173,
          -117.99492,
          -118.62939,
          -121.7933
         ],
         "marker": {
          "color": [
           2212.375,
           2365.9411764705883,
           1383.4444444444443,
           1526.25,
           1428,
           3227.7,
           1623.5,
           1643.2777777777778,
           695.75,
           1384.3076923076924,
           1711.3333333333333,
           1344.7368421052631,
           1487.3214285714287,
           1257.75,
           932.0833333333334,
           1605.75,
           943.5666666666667,
           1229.909090909091,
           3414.1785714285716,
           1000.125,
           1944.3333333333333,
           1204.125,
           1437.5,
           1253,
           1547.857142857143,
           776.34375,
           1529.6571428571428,
           799.25,
           1018.875,
           638.2857142857143,
           1629.5555555555557,
           1084.4117647058824,
           665,
           1723.5555555555557,
           2064.5714285714284,
           707.7142857142857,
           1969.3333333333333,
           789.2203389830509,
           700.7777777777778,
           1121.875,
           941.5,
           1984.642857142857,
           2773.5555555555557,
           1228.4333333333334,
           1018.931506849315,
           1323.6333333333334,
           1338.4761904761904,
           1464.5454545454545,
           2121.909090909091,
           970.3414634146342,
           2223.5757575757575,
           1164.875,
           1102,
           1258.6818181818182,
           1175.175,
           1295.9545454545455,
           1247.857142857143,
           1892.7083333333333,
           1450.8125,
           706,
           1039.26,
           481.75,
           838.7272727272727,
           1507.4166666666667,
           645.6666666666666,
           2065.3333333333335,
           1414.1875,
           1291.25,
           810.2173913043479,
           1135.2571428571428,
           1817.4444444444443,
           811.7843137254902,
           1106.388888888889,
           1583.2666666666667,
           1328.375,
           985.6769230769231,
           1079.3863636363637,
           1197.15,
           957.1666666666666,
           1418.5,
           1402.5,
           3548.1666666666665,
           1429.625,
           909.4318181818181,
           1040.2156862745098,
           1610.8055555555557,
           2079.733333333333,
           1144.8125,
           1501.2173913043478,
           1812.611111111111,
           1971.7142857142858,
           918.2105263157895,
           1998.6170212765958,
           1699.2307692307693,
           1273.825,
           1475.236111111111,
           1419.3170731707316,
           1202.75,
           1206.8048780487804,
           1848.1311475409836,
           1522.3050847457628,
           954.2368421052631,
           1123.0384615384614,
           1634.888888888889,
           1486.575,
           1658.3333333333333,
           2090.1,
           1680.6333333333334,
           1929.698113207547,
           1739.3684210526317,
           1674.3333333333333,
           1069.3076923076924,
           1340.245283018868,
           1000.921052631579,
           650.2235294117647,
           1497.7666666666667,
           758.375,
           827.9230769230769,
           2332.4285714285716,
           1750.8,
           1029.2173913043478,
           934.2745098039215,
           901.7808219178082,
           1546.1304347826087,
           1765.25,
           1162.3658536585365,
           1227.6666666666667,
           871.4193548387096,
           1241.25,
           1001.1666666666666,
           647.3333333333334,
           2279.9,
           2721.6,
           1536.7954545454545,
           1121.765625,
           1020.1923076923077,
           873.2903225806451,
           1128.6666666666667,
           1414.9,
           1372.7333333333333,
           822.3636363636364,
           2006.7307692307693,
           1499.8076923076924,
           1442.2068965517242,
           1208.5,
           1698,
           2317.8333333333335,
           1329.3333333333333,
           1169.888888888889,
           980.5714285714286,
           1439.3333333333333,
           1573.4,
           1410,
           1191.5,
           1017.625,
           1818.4,
           557.9285714285714,
           2664.4166666666665,
           1151.5588235294117,
           839.0491803278688,
           976.2857142857143,
           1454.0857142857142,
           1065.4285714285713,
           3214.625,
           854.5,
           2295.75,
           1116.25,
           725.5762711864406,
           2119.6,
           2062.46875,
           1867.625,
           775.2558139534884,
           681.5,
           1200.888888888889,
           1217.625,
           750.5185185185185,
           1731.0416666666667,
           1050.5535714285713,
           1367.0277777777778,
           1365.2857142857142,
           1269.9166666666667,
           1145.75,
           1564.25,
           790.8536585365854,
           1177.375,
           998.0526315789474,
           2591.125,
           1325.423076923077,
           1400.5,
           1387.3333333333333,
           1227.0357142857142,
           1425.423076923077,
           1931.8666666666666,
           1227.4166666666667,
           827.0487804878048,
           1446.857142857143,
           1058.125,
           1025.3684210526317,
           707.7021276595744,
           1190.25,
           1157.5,
           749.7647058823529,
           1247.6666666666667,
           1264.1333333333334,
           887.2,
           1583.6666666666667,
           1211.111111111111,
           847.5555555555555,
           692.7058823529412,
           776,
           1537.7358490566037,
           2162.5416666666665,
           1893.4285714285713,
           950.6190476190476,
           1401.9285714285713,
           1280.6129032258063,
           1091.4516129032259,
           3375.875,
           1211.3488372093022,
           1324.6153846153845,
           858.75,
           1582.9285714285713,
           1741.857142857143,
           1221.8181818181818,
           2223.181818181818,
           1179.1666666666667,
           1410.25,
           1436.0555555555557,
           948.8695652173913,
           1704.6923076923076,
           1788.7142857142858,
           786.6,
           1592.857142857143,
           1662.2727272727273,
           1111.1739130434783,
           1962.4137931034484,
           952.8,
           863.3787878787879,
           861.8636363636364,
           662.575,
           636.0769230769231,
           1212.1923076923076,
           1546.6153846153845,
           1946.578947368421,
           1185.2424242424242,
           868.1428571428571,
           951.5641025641025,
           1552.1875,
           920.875,
           1327.8,
           1306.4705882352941
          ],
          "coloraxis": "coloraxis",
          "size": [
           2212.375,
           2365.9411764705883,
           1383.4444444444443,
           1526.25,
           1428,
           3227.7,
           1623.5,
           1643.2777777777778,
           695.75,
           1384.3076923076924,
           1711.3333333333333,
           1344.7368421052631,
           1487.3214285714287,
           1257.75,
           932.0833333333334,
           1605.75,
           943.5666666666667,
           1229.909090909091,
           3414.1785714285716,
           1000.125,
           1944.3333333333333,
           1204.125,
           1437.5,
           1253,
           1547.857142857143,
           776.34375,
           1529.6571428571428,
           799.25,
           1018.875,
           638.2857142857143,
           1629.5555555555557,
           1084.4117647058824,
           665,
           1723.5555555555557,
           2064.5714285714284,
           707.7142857142857,
           1969.3333333333333,
           789.2203389830509,
           700.7777777777778,
           1121.875,
           941.5,
           1984.642857142857,
           2773.5555555555557,
           1228.4333333333334,
           1018.931506849315,
           1323.6333333333334,
           1338.4761904761904,
           1464.5454545454545,
           2121.909090909091,
           970.3414634146342,
           2223.5757575757575,
           1164.875,
           1102,
           1258.6818181818182,
           1175.175,
           1295.9545454545455,
           1247.857142857143,
           1892.7083333333333,
           1450.8125,
           706,
           1039.26,
           481.75,
           838.7272727272727,
           1507.4166666666667,
           645.6666666666666,
           2065.3333333333335,
           1414.1875,
           1291.25,
           810.2173913043479,
           1135.2571428571428,
           1817.4444444444443,
           811.7843137254902,
           1106.388888888889,
           1583.2666666666667,
           1328.375,
           985.6769230769231,
           1079.3863636363637,
           1197.15,
           957.1666666666666,
           1418.5,
           1402.5,
           3548.1666666666665,
           1429.625,
           909.4318181818181,
           1040.2156862745098,
           1610.8055555555557,
           2079.733333333333,
           1144.8125,
           1501.2173913043478,
           1812.611111111111,
           1971.7142857142858,
           918.2105263157895,
           1998.6170212765958,
           1699.2307692307693,
           1273.825,
           1475.236111111111,
           1419.3170731707316,
           1202.75,
           1206.8048780487804,
           1848.1311475409836,
           1522.3050847457628,
           954.2368421052631,
           1123.0384615384614,
           1634.888888888889,
           1486.575,
           1658.3333333333333,
           2090.1,
           1680.6333333333334,
           1929.698113207547,
           1739.3684210526317,
           1674.3333333333333,
           1069.3076923076924,
           1340.245283018868,
           1000.921052631579,
           650.2235294117647,
           1497.7666666666667,
           758.375,
           827.9230769230769,
           2332.4285714285716,
           1750.8,
           1029.2173913043478,
           934.2745098039215,
           901.7808219178082,
           1546.1304347826087,
           1765.25,
           1162.3658536585365,
           1227.6666666666667,
           871.4193548387096,
           1241.25,
           1001.1666666666666,
           647.3333333333334,
           2279.9,
           2721.6,
           1536.7954545454545,
           1121.765625,
           1020.1923076923077,
           873.2903225806451,
           1128.6666666666667,
           1414.9,
           1372.7333333333333,
           822.3636363636364,
           2006.7307692307693,
           1499.8076923076924,
           1442.2068965517242,
           1208.5,
           1698,
           2317.8333333333335,
           1329.3333333333333,
           1169.888888888889,
           980.5714285714286,
           1439.3333333333333,
           1573.4,
           1410,
           1191.5,
           1017.625,
           1818.4,
           557.9285714285714,
           2664.4166666666665,
           1151.5588235294117,
           839.0491803278688,
           976.2857142857143,
           1454.0857142857142,
           1065.4285714285713,
           3214.625,
           854.5,
           2295.75,
           1116.25,
           725.5762711864406,
           2119.6,
           2062.46875,
           1867.625,
           775.2558139534884,
           681.5,
           1200.888888888889,
           1217.625,
           750.5185185185185,
           1731.0416666666667,
           1050.5535714285713,
           1367.0277777777778,
           1365.2857142857142,
           1269.9166666666667,
           1145.75,
           1564.25,
           790.8536585365854,
           1177.375,
           998.0526315789474,
           2591.125,
           1325.423076923077,
           1400.5,
           1387.3333333333333,
           1227.0357142857142,
           1425.423076923077,
           1931.8666666666666,
           1227.4166666666667,
           827.0487804878048,
           1446.857142857143,
           1058.125,
           1025.3684210526317,
           707.7021276595744,
           1190.25,
           1157.5,
           749.7647058823529,
           1247.6666666666667,
           1264.1333333333334,
           887.2,
           1583.6666666666667,
           1211.111111111111,
           847.5555555555555,
           692.7058823529412,
           776,
           1537.7358490566037,
           2162.5416666666665,
           1893.4285714285713,
           950.6190476190476,
           1401.9285714285713,
           1280.6129032258063,
           1091.4516129032259,
           3375.875,
           1211.3488372093022,
           1324.6153846153845,
           858.75,
           1582.9285714285713,
           1741.857142857143,
           1221.8181818181818,
           2223.181818181818,
           1179.1666666666667,
           1410.25,
           1436.0555555555557,
           948.8695652173913,
           1704.6923076923076,
           1788.7142857142858,
           786.6,
           1592.857142857143,
           1662.2727272727273,
           1111.1739130434783,
           1962.4137931034484,
           952.8,
           863.3787878787879,
           861.8636363636364,
           662.575,
           636.0769230769231,
           1212.1923076923076,
           1546.6153846153845,
           1946.578947368421,
           1185.2424242424242,
           868.1428571428571,
           951.5641025641025,
           1552.1875,
           920.875,
           1327.8,
           1306.4705882352941
          ],
          "sizemode": "area",
          "sizeref": 8.870416666666666
         },
         "mode": "markers",
         "name": "",
         "showlegend": false,
         "subplot": "mapbox",
         "type": "scattermapbox"
        }
       ],
       "layout": {
        "coloraxis": {
         "colorbar": {
          "title": {
           "text": "Number of ED Vists Per ED Station"
          }
         },
         "colorscale": [
          [
           0,
           "#0d0887"
          ],
          [
           0.1111111111111111,
           "#46039f"
          ],
          [
           0.2222222222222222,
           "#7201a8"
          ],
          [
           0.3333333333333333,
           "#9c179e"
          ],
          [
           0.4444444444444444,
           "#bd3786"
          ],
          [
           0.5555555555555556,
           "#d8576b"
          ],
          [
           0.6666666666666666,
           "#ed7953"
          ],
          [
           0.7777777777777778,
           "#fb9f3a"
          ],
          [
           0.8888888888888888,
           "#fdca26"
          ],
          [
           1,
           "#f0f921"
          ]
         ]
        },
        "height": 700,
        "legend": {
         "itemsizing": "constant",
         "tracegroupgap": 0
        },
        "mapbox": {
         "center": {
          "lat": 36.00681501828685,
          "lon": -119.73582308525896
         },
         "domain": {
          "x": [
           0,
           1
          ],
          "y": [
           0,
           1
          ]
         },
         "style": "open-street-map",
         "zoom": 8
        },
        "template": {
         "data": {
          "bar": [
           {
            "error_x": {
             "color": "#2a3f5f"
            },
            "error_y": {
             "color": "#2a3f5f"
            },
            "marker": {
             "line": {
              "color": "#E5ECF6",
              "width": 0.5
             },
             "pattern": {
              "fillmode": "overlay",
              "size": 10,
              "solidity": 0.2
             }
            },
            "type": "bar"
           }
          ],
          "barpolar": [
           {
            "marker": {
             "line": {
              "color": "#E5ECF6",
              "width": 0.5
             },
             "pattern": {
              "fillmode": "overlay",
              "size": 10,
              "solidity": 0.2
             }
            },
            "type": "barpolar"
           }
          ],
          "carpet": [
           {
            "aaxis": {
             "endlinecolor": "#2a3f5f",
             "gridcolor": "white",
             "linecolor": "white",
             "minorgridcolor": "white",
             "startlinecolor": "#2a3f5f"
            },
            "baxis": {
             "endlinecolor": "#2a3f5f",
             "gridcolor": "white",
             "linecolor": "white",
             "minorgridcolor": "white",
             "startlinecolor": "#2a3f5f"
            },
            "type": "carpet"
           }
          ],
          "choropleth": [
           {
            "colorbar": {
             "outlinewidth": 0,
             "ticks": ""
            },
            "type": "choropleth"
           }
          ],
          "contour": [
           {
            "colorbar": {
             "outlinewidth": 0,
             "ticks": ""
            },
            "colorscale": [
             [
              0,
              "#0d0887"
             ],
             [
              0.1111111111111111,
              "#46039f"
             ],
             [
              0.2222222222222222,
              "#7201a8"
             ],
             [
              0.3333333333333333,
              "#9c179e"
             ],
             [
              0.4444444444444444,
              "#bd3786"
             ],
             [
              0.5555555555555556,
              "#d8576b"
             ],
             [
              0.6666666666666666,
              "#ed7953"
             ],
             [
              0.7777777777777778,
              "#fb9f3a"
             ],
             [
              0.8888888888888888,
              "#fdca26"
             ],
             [
              1,
              "#f0f921"
             ]
            ],
            "type": "contour"
           }
          ],
          "contourcarpet": [
           {
            "colorbar": {
             "outlinewidth": 0,
             "ticks": ""
            },
            "type": "contourcarpet"
           }
          ],
          "heatmap": [
           {
            "colorbar": {
             "outlinewidth": 0,
             "ticks": ""
            },
            "colorscale": [
             [
              0,
              "#0d0887"
             ],
             [
              0.1111111111111111,
              "#46039f"
             ],
             [
              0.2222222222222222,
              "#7201a8"
             ],
             [
              0.3333333333333333,
              "#9c179e"
             ],
             [
              0.4444444444444444,
              "#bd3786"
             ],
             [
              0.5555555555555556,
              "#d8576b"
             ],
             [
              0.6666666666666666,
              "#ed7953"
             ],
             [
              0.7777777777777778,
              "#fb9f3a"
             ],
             [
              0.8888888888888888,
              "#fdca26"
             ],
             [
              1,
              "#f0f921"
             ]
            ],
            "type": "heatmap"
           }
          ],
          "heatmapgl": [
           {
            "colorbar": {
             "outlinewidth": 0,
             "ticks": ""
            },
            "colorscale": [
             [
              0,
              "#0d0887"
             ],
             [
              0.1111111111111111,
              "#46039f"
             ],
             [
              0.2222222222222222,
              "#7201a8"
             ],
             [
              0.3333333333333333,
              "#9c179e"
             ],
             [
              0.4444444444444444,
              "#bd3786"
             ],
             [
              0.5555555555555556,
              "#d8576b"
             ],
             [
              0.6666666666666666,
              "#ed7953"
             ],
             [
              0.7777777777777778,
              "#fb9f3a"
             ],
             [
              0.8888888888888888,
              "#fdca26"
             ],
             [
              1,
              "#f0f921"
             ]
            ],
            "type": "heatmapgl"
           }
          ],
          "histogram": [
           {
            "marker": {
             "pattern": {
              "fillmode": "overlay",
              "size": 10,
              "solidity": 0.2
             }
            },
            "type": "histogram"
           }
          ],
          "histogram2d": [
           {
            "colorbar": {
             "outlinewidth": 0,
             "ticks": ""
            },
            "colorscale": [
             [
              0,
              "#0d0887"
             ],
             [
              0.1111111111111111,
              "#46039f"
             ],
             [
              0.2222222222222222,
              "#7201a8"
             ],
             [
              0.3333333333333333,
              "#9c179e"
             ],
             [
              0.4444444444444444,
              "#bd3786"
             ],
             [
              0.5555555555555556,
              "#d8576b"
             ],
             [
              0.6666666666666666,
              "#ed7953"
             ],
             [
              0.7777777777777778,
              "#fb9f3a"
             ],
             [
              0.8888888888888888,
              "#fdca26"
             ],
             [
              1,
              "#f0f921"
             ]
            ],
            "type": "histogram2d"
           }
          ],
          "histogram2dcontour": [
           {
            "colorbar": {
             "outlinewidth": 0,
             "ticks": ""
            },
            "colorscale": [
             [
              0,
              "#0d0887"
             ],
             [
              0.1111111111111111,
              "#46039f"
             ],
             [
              0.2222222222222222,
              "#7201a8"
             ],
             [
              0.3333333333333333,
              "#9c179e"
             ],
             [
              0.4444444444444444,
              "#bd3786"
             ],
             [
              0.5555555555555556,
              "#d8576b"
             ],
             [
              0.6666666666666666,
              "#ed7953"
             ],
             [
              0.7777777777777778,
              "#fb9f3a"
             ],
             [
              0.8888888888888888,
              "#fdca26"
             ],
             [
              1,
              "#f0f921"
             ]
            ],
            "type": "histogram2dcontour"
           }
          ],
          "mesh3d": [
           {
            "colorbar": {
             "outlinewidth": 0,
             "ticks": ""
            },
            "type": "mesh3d"
           }
          ],
          "parcoords": [
           {
            "line": {
             "colorbar": {
              "outlinewidth": 0,
              "ticks": ""
             }
            },
            "type": "parcoords"
           }
          ],
          "pie": [
           {
            "automargin": true,
            "type": "pie"
           }
          ],
          "scatter": [
           {
            "fillpattern": {
             "fillmode": "overlay",
             "size": 10,
             "solidity": 0.2
            },
            "type": "scatter"
           }
          ],
          "scatter3d": [
           {
            "line": {
             "colorbar": {
              "outlinewidth": 0,
              "ticks": ""
             }
            },
            "marker": {
             "colorbar": {
              "outlinewidth": 0,
              "ticks": ""
             }
            },
            "type": "scatter3d"
           }
          ],
          "scattercarpet": [
           {
            "marker": {
             "colorbar": {
              "outlinewidth": 0,
              "ticks": ""
             }
            },
            "type": "scattercarpet"
           }
          ],
          "scattergeo": [
           {
            "marker": {
             "colorbar": {
              "outlinewidth": 0,
              "ticks": ""
             }
            },
            "type": "scattergeo"
           }
          ],
          "scattergl": [
           {
            "marker": {
             "colorbar": {
              "outlinewidth": 0,
              "ticks": ""
             }
            },
            "type": "scattergl"
           }
          ],
          "scattermapbox": [
           {
            "marker": {
             "colorbar": {
              "outlinewidth": 0,
              "ticks": ""
             }
            },
            "type": "scattermapbox"
           }
          ],
          "scatterpolar": [
           {
            "marker": {
             "colorbar": {
              "outlinewidth": 0,
              "ticks": ""
             }
            },
            "type": "scatterpolar"
           }
          ],
          "scatterpolargl": [
           {
            "marker": {
             "colorbar": {
              "outlinewidth": 0,
              "ticks": ""
             }
            },
            "type": "scatterpolargl"
           }
          ],
          "scatterternary": [
           {
            "marker": {
             "colorbar": {
              "outlinewidth": 0,
              "ticks": ""
             }
            },
            "type": "scatterternary"
           }
          ],
          "surface": [
           {
            "colorbar": {
             "outlinewidth": 0,
             "ticks": ""
            },
            "colorscale": [
             [
              0,
              "#0d0887"
             ],
             [
              0.1111111111111111,
              "#46039f"
             ],
             [
              0.2222222222222222,
              "#7201a8"
             ],
             [
              0.3333333333333333,
              "#9c179e"
             ],
             [
              0.4444444444444444,
              "#bd3786"
             ],
             [
              0.5555555555555556,
              "#d8576b"
             ],
             [
              0.6666666666666666,
              "#ed7953"
             ],
             [
              0.7777777777777778,
              "#fb9f3a"
             ],
             [
              0.8888888888888888,
              "#fdca26"
             ],
             [
              1,
              "#f0f921"
             ]
            ],
            "type": "surface"
           }
          ],
          "table": [
           {
            "cells": {
             "fill": {
              "color": "#EBF0F8"
             },
             "line": {
              "color": "white"
             }
            },
            "header": {
             "fill": {
              "color": "#C8D4E3"
             },
             "line": {
              "color": "white"
             }
            },
            "type": "table"
           }
          ]
         },
         "layout": {
          "annotationdefaults": {
           "arrowcolor": "#2a3f5f",
           "arrowhead": 0,
           "arrowwidth": 1
          },
          "autotypenumbers": "strict",
          "coloraxis": {
           "colorbar": {
            "outlinewidth": 0,
            "ticks": ""
           }
          },
          "colorscale": {
           "diverging": [
            [
             0,
             "#8e0152"
            ],
            [
             0.1,
             "#c51b7d"
            ],
            [
             0.2,
             "#de77ae"
            ],
            [
             0.3,
             "#f1b6da"
            ],
            [
             0.4,
             "#fde0ef"
            ],
            [
             0.5,
             "#f7f7f7"
            ],
            [
             0.6,
             "#e6f5d0"
            ],
            [
             0.7,
             "#b8e186"
            ],
            [
             0.8,
             "#7fbc41"
            ],
            [
             0.9,
             "#4d9221"
            ],
            [
             1,
             "#276419"
            ]
           ],
           "sequential": [
            [
             0,
             "#0d0887"
            ],
            [
             0.1111111111111111,
             "#46039f"
            ],
            [
             0.2222222222222222,
             "#7201a8"
            ],
            [
             0.3333333333333333,
             "#9c179e"
            ],
            [
             0.4444444444444444,
             "#bd3786"
            ],
            [
             0.5555555555555556,
             "#d8576b"
            ],
            [
             0.6666666666666666,
             "#ed7953"
            ],
            [
             0.7777777777777778,
             "#fb9f3a"
            ],
            [
             0.8888888888888888,
             "#fdca26"
            ],
            [
             1,
             "#f0f921"
            ]
           ],
           "sequentialminus": [
            [
             0,
             "#0d0887"
            ],
            [
             0.1111111111111111,
             "#46039f"
            ],
            [
             0.2222222222222222,
             "#7201a8"
            ],
            [
             0.3333333333333333,
             "#9c179e"
            ],
            [
             0.4444444444444444,
             "#bd3786"
            ],
            [
             0.5555555555555556,
             "#d8576b"
            ],
            [
             0.6666666666666666,
             "#ed7953"
            ],
            [
             0.7777777777777778,
             "#fb9f3a"
            ],
            [
             0.8888888888888888,
             "#fdca26"
            ],
            [
             1,
             "#f0f921"
            ]
           ]
          },
          "colorway": [
           "#636efa",
           "#EF553B",
           "#00cc96",
           "#ab63fa",
           "#FFA15A",
           "#19d3f3",
           "#FF6692",
           "#B6E880",
           "#FF97FF",
           "#FECB52"
          ],
          "font": {
           "color": "#2a3f5f"
          },
          "geo": {
           "bgcolor": "white",
           "lakecolor": "white",
           "landcolor": "#E5ECF6",
           "showlakes": true,
           "showland": true,
           "subunitcolor": "white"
          },
          "hoverlabel": {
           "align": "left"
          },
          "hovermode": "closest",
          "mapbox": {
           "style": "light"
          },
          "paper_bgcolor": "white",
          "plot_bgcolor": "#E5ECF6",
          "polar": {
           "angularaxis": {
            "gridcolor": "white",
            "linecolor": "white",
            "ticks": ""
           },
           "bgcolor": "#E5ECF6",
           "radialaxis": {
            "gridcolor": "white",
            "linecolor": "white",
            "ticks": ""
           }
          },
          "scene": {
           "xaxis": {
            "backgroundcolor": "#E5ECF6",
            "gridcolor": "white",
            "gridwidth": 2,
            "linecolor": "white",
            "showbackground": true,
            "ticks": "",
            "zerolinecolor": "white"
           },
           "yaxis": {
            "backgroundcolor": "#E5ECF6",
            "gridcolor": "white",
            "gridwidth": 2,
            "linecolor": "white",
            "showbackground": true,
            "ticks": "",
            "zerolinecolor": "white"
           },
           "zaxis": {
            "backgroundcolor": "#E5ECF6",
            "gridcolor": "white",
            "gridwidth": 2,
            "linecolor": "white",
            "showbackground": true,
            "ticks": "",
            "zerolinecolor": "white"
           }
          },
          "shapedefaults": {
           "line": {
            "color": "#2a3f5f"
           }
          },
          "ternary": {
           "aaxis": {
            "gridcolor": "white",
            "linecolor": "white",
            "ticks": ""
           },
           "baxis": {
            "gridcolor": "white",
            "linecolor": "white",
            "ticks": ""
           },
           "bgcolor": "#E5ECF6",
           "caxis": {
            "gridcolor": "white",
            "linecolor": "white",
            "ticks": ""
           }
          },
          "title": {
           "x": 0.05
          },
          "xaxis": {
           "automargin": true,
           "gridcolor": "white",
           "linecolor": "white",
           "ticks": "",
           "title": {
            "standoff": 15
           },
           "zerolinecolor": "white",
           "zerolinewidth": 2
          },
          "yaxis": {
           "automargin": true,
           "gridcolor": "white",
           "linecolor": "white",
           "ticks": "",
           "title": {
            "standoff": 15
           },
           "zerolinecolor": "white",
           "zerolinewidth": 2
          }
         }
        },
        "title": {
         "text": "Number of Emergency Departments Visits Per Emergency Department <br> Station for All Facilities In California"
        },
        "width": 700
       }
      }
     },
     "metadata": {},
     "output_type": "display_data"
    }
   ],
   "source": [
    "fig = px.scatter_mapbox(total_eddxcount_pc, \n",
    "                        lat=\"LATITUDE\", \n",
    "                        lon=\"LONGITUDE\", \n",
    "                        color=\"Number of ED Vists Per ED Station\",\n",
    "                        size=\"Number of ED Vists Per ED Station\",\n",
    "                        hover_name=\"Number of ED Vists Per ED Station\", \n",
    "                        hover_data=[\"FacilityName2\", \"Number of ED Vists Per ED Station\"],\n",
    "                        zoom=8, \n",
    "                        height=700,\n",
    "                        width=700,\n",
    "                        title=\"Number of Emergency Departments Visits Per Emergency Department <br> Station for All Facilities In California\")\n",
    "fig.update_layout(mapbox_style=\"open-street-map\")\n",
    "fig.show()"
   ]
  },
  {
   "cell_type": "code",
   "execution_count": 22,
   "metadata": {},
   "outputs": [
    {
     "name": "stdout",
     "output_type": "stream",
     "text": [
      "1369.0595692931358 526.4534299964054\n"
     ]
    },
    {
     "data": {
      "image/png": "[encoded data removed]",
      "text/plain": [
       "<Figure size 640x480 with 1 Axes>"
      ]
     },
     "metadata": {},
     "output_type": "display_data"
    }
   ],
   "source": [
    "#total_eddxcount_pc_3000 = total_eddxcount_pc[total_eddxcount_pc['Number of ED Vists Per ED Station'] <= 3000]\n",
    "sns.histplot(total_eddxcount_pc['Number of ED Vists Per ED Station'], color = 'blue')\n",
    "plt.title(\"Distribution of Number of ED Vists Per ED Station in California\")\n",
    "print(total_eddxcount_pc['Number of ED Vists Per ED Station'].mean(), total_eddxcount_pc['Number of ED Vists Per ED Station'].std())"
   ]
  }
 ],
 "metadata": {
  "kernelspec": {
   "display_name": "Python 3",
   "language": "python",
   "name": "python3"
  },
  "language_info": {
   "codemirror_mode": {
    "name": "ipython",
    "version": 3
   },
   "file_extension": ".py",
   "mimetype": "text/x-python",
   "name": "python",
   "nbconvert_exporter": "python",
   "pygments_lexer": "ipython3",
   "version": "3.11.2"
  }
 },
 "nbformat": 4,
 "nbformat_minor": 2
}
